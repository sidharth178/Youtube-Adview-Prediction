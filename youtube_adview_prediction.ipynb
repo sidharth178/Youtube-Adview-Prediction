{
  "nbformat": 4,
  "nbformat_minor": 0,
  "metadata": {
    "accelerator": "GPU",
    "colab": {
      "name": "youtube_adview_prediction.ipynb",
      "provenance": [],
      "collapsed_sections": [],
      "toc_visible": true,
      "include_colab_link": true
    },
    "kernelspec": {
      "display_name": "Python 3",
      "name": "python3"
    },
    "language_info": {
      "name": "python"
    }
  },
  "cells": [
    {
      "cell_type": "markdown",
      "metadata": {
        "id": "view-in-github",
        "colab_type": "text"
      },
      "source": [
        "<a href=\"https://colab.research.google.com/github/sidharth178/Youtube-Adview-Prediction/blob/master/youtube_adview_prediction.ipynb\" target=\"_parent\"><img src=\"https://colab.research.google.com/assets/colab-badge.svg\" alt=\"Open In Colab\"/></a>"
      ]
    },
    {
      "cell_type": "markdown",
      "metadata": {
        "id": "q6bqbVyb8ELZ"
      },
      "source": [
        "# <center>**===========YouTube AdView Prediction============**</center>"
      ]
    },
    {
      "cell_type": "markdown",
      "metadata": {
        "id": "RH0yj_pW8yKF"
      },
      "source": [
        "# **1. Introduction**\n",
        "### **Objective:** \n",
        "To build a machine learning model which will predict youtube adview count based on other youtube metrics.\n",
        "### **Data Description:**\n",
        "- train.csv - the training set\n",
        "- test.csv - the test set\n",
        "- The file train.csv contains metrics and other details of about 15000 youtube videos. The metrics include number of views, likes, dislikes, comments and apart from that published date, duration and category are also included. The train.csv file also contains the metric number of adviews which is our target variable for prediction.\n",
        "\n",
        "### **Table of Content:**\n",
        "1. Introduction\n",
        "2. Install & Import Libraries\n",
        "3. Load Datasets\n",
        "4. Exploratory Data Analysis\n",
        "5. Feature Engineering\n",
        "6. Model Development\n",
        "7. Find Prediction\n",
        "\n",
        "\n",
        "\n"
      ]
    },
    {
      "cell_type": "markdown",
      "metadata": {
        "id": "iZwNON8xIs5Q"
      },
      "source": [
        "# **2. Install & Import Libraries**\n",
        "\n",
        "- Run the below cell, if you've not install these libraries before."
      ]
    },
    {
      "cell_type": "code",
      "metadata": {
        "collapsed": true,
        "id": "A-nNkYeYrgj6"
      },
      "source": [
        "# # use to visualize missing value\n",
        "# !pip install missingno\n",
        "\n",
        "# # use for hyper parameter tuning\n",
        "# !pip install optuna\n"
      ],
      "execution_count": 107,
      "outputs": []
    },
    {
      "cell_type": "code",
      "metadata": {
        "colab": {
          "base_uri": "https://localhost:8080/"
        },
        "id": "edVs2sxRI-58",
        "outputId": "9eee2dec-f1d6-4dac-ac23-9879de5f804f"
      },
      "source": [
        "import numpy as np\n",
        "import pandas as pd\n",
        "import matplotlib.pyplot as plt\n",
        "import seaborn as sns\n",
        "import missingno as msno\n",
        "## Display all the columns of the dataframe\n",
        "pd.pandas.set_option('display.max_columns',None)\n",
        "\n",
        "from scipy import stats\n",
        "from scipy.stats import norm, skew # for some statistics\n",
        "import warnings # to ignore warning\n",
        "from sklearn.preprocessing import RobustScaler, PowerTransformer, LabelEncoder\n",
        "from sklearn.pipeline import make_pipeline\n",
        "from sklearn.model_selection import train_test_split\n",
        "\n",
        "import optuna\n",
        "from sklearn.model_selection import KFold, cross_val_score\n",
        "from sklearn.linear_model import Ridge, Lasso\n",
        "from sklearn.ensemble import StackingRegressor, RandomForestRegressor, GradientBoostingRegressor\n",
        "from sklearn.svm import SVR\n",
        "import xgboost as xgb\n",
        "import lightgbm as lgb\n",
        "import joblib\n",
        "\n",
        "import warnings\n",
        "warnings.filterwarnings('ignore')\n",
        "print(\"Library Imported!!\")"
      ],
      "execution_count": 54,
      "outputs": [
        {
          "output_type": "stream",
          "text": [
            "Library Imported!!\n"
          ],
          "name": "stdout"
        }
      ]
    },
    {
      "cell_type": "markdown",
      "metadata": {
        "id": "YwLuqec9JD6y"
      },
      "source": [
        "# **3. Load Datasets**"
      ]
    },
    {
      "cell_type": "code",
      "metadata": {
        "id": "TqC_8gRGDBzr"
      },
      "source": [
        "# load train and test dataset\n",
        "train_df = pd.read_csv(\"/content/train.csv\")\n",
        "test_df = pd.read_csv(\"/content/test.csv\")"
      ],
      "execution_count": 55,
      "outputs": []
    },
    {
      "cell_type": "markdown",
      "metadata": {
        "id": "6g2dd-GlIFIB"
      },
      "source": [
        "# **4. Exploratory Data Analysis**\n",
        "### 4.1. Train Data Exploration\n",
        "\n",
        "For both train and test dataset, We'll explore following things\n",
        "\n",
        "- First 5 rows\n",
        "- Data shape\n",
        "- Data information\n",
        "- Data types\n",
        "- Null value"
      ]
    },
    {
      "cell_type": "markdown",
      "metadata": {
        "id": "aNGZv-v0U12t"
      },
      "source": [
        "### 4.1.1. First 5 records"
      ]
    },
    {
      "cell_type": "code",
      "metadata": {
        "colab": {
          "base_uri": "https://localhost:8080/",
          "height": 203
        },
        "id": "DNxoDXP5DB3p",
        "outputId": "9170fede-2445-422e-aeb1-b0f717c7bc74"
      },
      "source": [
        "train_df.head()"
      ],
      "execution_count": 56,
      "outputs": [
        {
          "output_type": "execute_result",
          "data": {
            "text/html": [
              "<div>\n",
              "<style scoped>\n",
              "    .dataframe tbody tr th:only-of-type {\n",
              "        vertical-align: middle;\n",
              "    }\n",
              "\n",
              "    .dataframe tbody tr th {\n",
              "        vertical-align: top;\n",
              "    }\n",
              "\n",
              "    .dataframe thead th {\n",
              "        text-align: right;\n",
              "    }\n",
              "</style>\n",
              "<table border=\"1\" class=\"dataframe\">\n",
              "  <thead>\n",
              "    <tr style=\"text-align: right;\">\n",
              "      <th></th>\n",
              "      <th>vidid</th>\n",
              "      <th>adview</th>\n",
              "      <th>views</th>\n",
              "      <th>likes</th>\n",
              "      <th>dislikes</th>\n",
              "      <th>comment</th>\n",
              "      <th>published</th>\n",
              "      <th>duration</th>\n",
              "      <th>category</th>\n",
              "    </tr>\n",
              "  </thead>\n",
              "  <tbody>\n",
              "    <tr>\n",
              "      <th>0</th>\n",
              "      <td>VID_18655</td>\n",
              "      <td>40</td>\n",
              "      <td>1031602</td>\n",
              "      <td>8523</td>\n",
              "      <td>363</td>\n",
              "      <td>1095</td>\n",
              "      <td>2016-09-14</td>\n",
              "      <td>PT7M37S</td>\n",
              "      <td>F</td>\n",
              "    </tr>\n",
              "    <tr>\n",
              "      <th>1</th>\n",
              "      <td>VID_14135</td>\n",
              "      <td>2</td>\n",
              "      <td>1707</td>\n",
              "      <td>56</td>\n",
              "      <td>2</td>\n",
              "      <td>6</td>\n",
              "      <td>2016-10-01</td>\n",
              "      <td>PT9M30S</td>\n",
              "      <td>D</td>\n",
              "    </tr>\n",
              "    <tr>\n",
              "      <th>2</th>\n",
              "      <td>VID_2187</td>\n",
              "      <td>1</td>\n",
              "      <td>2023</td>\n",
              "      <td>25</td>\n",
              "      <td>0</td>\n",
              "      <td>2</td>\n",
              "      <td>2016-07-02</td>\n",
              "      <td>PT2M16S</td>\n",
              "      <td>C</td>\n",
              "    </tr>\n",
              "    <tr>\n",
              "      <th>3</th>\n",
              "      <td>VID_23096</td>\n",
              "      <td>6</td>\n",
              "      <td>620860</td>\n",
              "      <td>777</td>\n",
              "      <td>161</td>\n",
              "      <td>153</td>\n",
              "      <td>2016-07-27</td>\n",
              "      <td>PT4M22S</td>\n",
              "      <td>H</td>\n",
              "    </tr>\n",
              "    <tr>\n",
              "      <th>4</th>\n",
              "      <td>VID_10175</td>\n",
              "      <td>1</td>\n",
              "      <td>666</td>\n",
              "      <td>1</td>\n",
              "      <td>0</td>\n",
              "      <td>0</td>\n",
              "      <td>2016-06-29</td>\n",
              "      <td>PT31S</td>\n",
              "      <td>D</td>\n",
              "    </tr>\n",
              "  </tbody>\n",
              "</table>\n",
              "</div>"
            ],
            "text/plain": [
              "       vidid  adview    views likes dislikes comment   published duration  \\\n",
              "0  VID_18655      40  1031602  8523      363    1095  2016-09-14  PT7M37S   \n",
              "1  VID_14135       2     1707    56        2       6  2016-10-01  PT9M30S   \n",
              "2   VID_2187       1     2023    25        0       2  2016-07-02  PT2M16S   \n",
              "3  VID_23096       6   620860   777      161     153  2016-07-27  PT4M22S   \n",
              "4  VID_10175       1      666     1        0       0  2016-06-29    PT31S   \n",
              "\n",
              "  category  \n",
              "0        F  \n",
              "1        D  \n",
              "2        C  \n",
              "3        H  \n",
              "4        D  "
            ]
          },
          "metadata": {
            "tags": []
          },
          "execution_count": 56
        }
      ]
    },
    {
      "cell_type": "markdown",
      "metadata": {
        "id": "Dwqhcr1SVHl_"
      },
      "source": [
        "### 4.1.2. Data Shape - Train Data"
      ]
    },
    {
      "cell_type": "code",
      "metadata": {
        "colab": {
          "base_uri": "https://localhost:8080/"
        },
        "id": "2YgZcVkGDCT0",
        "outputId": "71ec2251-5e62-42c4-d942-cfbda5206e3d"
      },
      "source": [
        "train_df.shape"
      ],
      "execution_count": 57,
      "outputs": [
        {
          "output_type": "execute_result",
          "data": {
            "text/plain": [
              "(14999, 9)"
            ]
          },
          "metadata": {
            "tags": []
          },
          "execution_count": 57
        }
      ]
    },
    {
      "cell_type": "markdown",
      "metadata": {
        "id": "0bpFSABeVdw6"
      },
      "source": [
        "### 4.1.3. Data Information - Train Data"
      ]
    },
    {
      "cell_type": "code",
      "metadata": {
        "colab": {
          "base_uri": "https://localhost:8080/"
        },
        "collapsed": true,
        "id": "pF0s1eqYVROq",
        "outputId": "cf2247bc-11ef-442d-fa77-15f26ddeab6e"
      },
      "source": [
        "train_df.info()"
      ],
      "execution_count": 58,
      "outputs": [
        {
          "output_type": "stream",
          "text": [
            "<class 'pandas.core.frame.DataFrame'>\n",
            "RangeIndex: 14999 entries, 0 to 14998\n",
            "Data columns (total 9 columns):\n",
            " #   Column     Non-Null Count  Dtype \n",
            "---  ------     --------------  ----- \n",
            " 0   vidid      14999 non-null  object\n",
            " 1   adview     14999 non-null  int64 \n",
            " 2   views      14999 non-null  object\n",
            " 3   likes      14999 non-null  object\n",
            " 4   dislikes   14999 non-null  object\n",
            " 5   comment    14999 non-null  object\n",
            " 6   published  14999 non-null  object\n",
            " 7   duration   14999 non-null  object\n",
            " 8   category   14999 non-null  object\n",
            "dtypes: int64(1), object(8)\n",
            "memory usage: 1.0+ MB\n"
          ],
          "name": "stdout"
        }
      ]
    },
    {
      "cell_type": "markdown",
      "metadata": {
        "id": "nsHU-MblVe0W"
      },
      "source": [
        "### 4.1.4. Statistical analysis - Train Data"
      ]
    },
    {
      "cell_type": "code",
      "metadata": {
        "colab": {
          "base_uri": "https://localhost:8080/",
          "height": 388
        },
        "id": "B3x0Q839V07G",
        "outputId": "f1bac8c9-520a-4d6f-da03-6d9887b91ec4"
      },
      "source": [
        "train_df.describe(include='all')"
      ],
      "execution_count": 59,
      "outputs": [
        {
          "output_type": "execute_result",
          "data": {
            "text/html": [
              "<div>\n",
              "<style scoped>\n",
              "    .dataframe tbody tr th:only-of-type {\n",
              "        vertical-align: middle;\n",
              "    }\n",
              "\n",
              "    .dataframe tbody tr th {\n",
              "        vertical-align: top;\n",
              "    }\n",
              "\n",
              "    .dataframe thead th {\n",
              "        text-align: right;\n",
              "    }\n",
              "</style>\n",
              "<table border=\"1\" class=\"dataframe\">\n",
              "  <thead>\n",
              "    <tr style=\"text-align: right;\">\n",
              "      <th></th>\n",
              "      <th>vidid</th>\n",
              "      <th>adview</th>\n",
              "      <th>views</th>\n",
              "      <th>likes</th>\n",
              "      <th>dislikes</th>\n",
              "      <th>comment</th>\n",
              "      <th>published</th>\n",
              "      <th>duration</th>\n",
              "      <th>category</th>\n",
              "    </tr>\n",
              "  </thead>\n",
              "  <tbody>\n",
              "    <tr>\n",
              "      <th>count</th>\n",
              "      <td>14999</td>\n",
              "      <td>1.499900e+04</td>\n",
              "      <td>14999</td>\n",
              "      <td>14999</td>\n",
              "      <td>14999</td>\n",
              "      <td>14999</td>\n",
              "      <td>14999</td>\n",
              "      <td>14999</td>\n",
              "      <td>14999</td>\n",
              "    </tr>\n",
              "    <tr>\n",
              "      <th>unique</th>\n",
              "      <td>14999</td>\n",
              "      <td>NaN</td>\n",
              "      <td>14588</td>\n",
              "      <td>4789</td>\n",
              "      <td>1546</td>\n",
              "      <td>2007</td>\n",
              "      <td>2386</td>\n",
              "      <td>3146</td>\n",
              "      <td>8</td>\n",
              "    </tr>\n",
              "    <tr>\n",
              "      <th>top</th>\n",
              "      <td>VID_12352</td>\n",
              "      <td>NaN</td>\n",
              "      <td>238</td>\n",
              "      <td>1</td>\n",
              "      <td>0</td>\n",
              "      <td>0</td>\n",
              "      <td>2016-08-26</td>\n",
              "      <td>PT31S</td>\n",
              "      <td>D</td>\n",
              "    </tr>\n",
              "    <tr>\n",
              "      <th>freq</th>\n",
              "      <td>1</td>\n",
              "      <td>NaN</td>\n",
              "      <td>4</td>\n",
              "      <td>174</td>\n",
              "      <td>1091</td>\n",
              "      <td>1290</td>\n",
              "      <td>42</td>\n",
              "      <td>147</td>\n",
              "      <td>7558</td>\n",
              "    </tr>\n",
              "    <tr>\n",
              "      <th>mean</th>\n",
              "      <td>NaN</td>\n",
              "      <td>2.107791e+03</td>\n",
              "      <td>NaN</td>\n",
              "      <td>NaN</td>\n",
              "      <td>NaN</td>\n",
              "      <td>NaN</td>\n",
              "      <td>NaN</td>\n",
              "      <td>NaN</td>\n",
              "      <td>NaN</td>\n",
              "    </tr>\n",
              "    <tr>\n",
              "      <th>std</th>\n",
              "      <td>NaN</td>\n",
              "      <td>5.237711e+04</td>\n",
              "      <td>NaN</td>\n",
              "      <td>NaN</td>\n",
              "      <td>NaN</td>\n",
              "      <td>NaN</td>\n",
              "      <td>NaN</td>\n",
              "      <td>NaN</td>\n",
              "      <td>NaN</td>\n",
              "    </tr>\n",
              "    <tr>\n",
              "      <th>min</th>\n",
              "      <td>NaN</td>\n",
              "      <td>1.000000e+00</td>\n",
              "      <td>NaN</td>\n",
              "      <td>NaN</td>\n",
              "      <td>NaN</td>\n",
              "      <td>NaN</td>\n",
              "      <td>NaN</td>\n",
              "      <td>NaN</td>\n",
              "      <td>NaN</td>\n",
              "    </tr>\n",
              "    <tr>\n",
              "      <th>25%</th>\n",
              "      <td>NaN</td>\n",
              "      <td>1.000000e+00</td>\n",
              "      <td>NaN</td>\n",
              "      <td>NaN</td>\n",
              "      <td>NaN</td>\n",
              "      <td>NaN</td>\n",
              "      <td>NaN</td>\n",
              "      <td>NaN</td>\n",
              "      <td>NaN</td>\n",
              "    </tr>\n",
              "    <tr>\n",
              "      <th>50%</th>\n",
              "      <td>NaN</td>\n",
              "      <td>2.000000e+00</td>\n",
              "      <td>NaN</td>\n",
              "      <td>NaN</td>\n",
              "      <td>NaN</td>\n",
              "      <td>NaN</td>\n",
              "      <td>NaN</td>\n",
              "      <td>NaN</td>\n",
              "      <td>NaN</td>\n",
              "    </tr>\n",
              "    <tr>\n",
              "      <th>75%</th>\n",
              "      <td>NaN</td>\n",
              "      <td>6.000000e+00</td>\n",
              "      <td>NaN</td>\n",
              "      <td>NaN</td>\n",
              "      <td>NaN</td>\n",
              "      <td>NaN</td>\n",
              "      <td>NaN</td>\n",
              "      <td>NaN</td>\n",
              "      <td>NaN</td>\n",
              "    </tr>\n",
              "    <tr>\n",
              "      <th>max</th>\n",
              "      <td>NaN</td>\n",
              "      <td>5.429665e+06</td>\n",
              "      <td>NaN</td>\n",
              "      <td>NaN</td>\n",
              "      <td>NaN</td>\n",
              "      <td>NaN</td>\n",
              "      <td>NaN</td>\n",
              "      <td>NaN</td>\n",
              "      <td>NaN</td>\n",
              "    </tr>\n",
              "  </tbody>\n",
              "</table>\n",
              "</div>"
            ],
            "text/plain": [
              "            vidid        adview  views  likes dislikes comment   published  \\\n",
              "count       14999  1.499900e+04  14999  14999    14999   14999       14999   \n",
              "unique      14999           NaN  14588   4789     1546    2007        2386   \n",
              "top     VID_12352           NaN    238      1        0       0  2016-08-26   \n",
              "freq            1           NaN      4    174     1091    1290          42   \n",
              "mean          NaN  2.107791e+03    NaN    NaN      NaN     NaN         NaN   \n",
              "std           NaN  5.237711e+04    NaN    NaN      NaN     NaN         NaN   \n",
              "min           NaN  1.000000e+00    NaN    NaN      NaN     NaN         NaN   \n",
              "25%           NaN  1.000000e+00    NaN    NaN      NaN     NaN         NaN   \n",
              "50%           NaN  2.000000e+00    NaN    NaN      NaN     NaN         NaN   \n",
              "75%           NaN  6.000000e+00    NaN    NaN      NaN     NaN         NaN   \n",
              "max           NaN  5.429665e+06    NaN    NaN      NaN     NaN         NaN   \n",
              "\n",
              "       duration category  \n",
              "count     14999    14999  \n",
              "unique     3146        8  \n",
              "top       PT31S        D  \n",
              "freq        147     7558  \n",
              "mean        NaN      NaN  \n",
              "std         NaN      NaN  \n",
              "min         NaN      NaN  \n",
              "25%         NaN      NaN  \n",
              "50%         NaN      NaN  \n",
              "75%         NaN      NaN  \n",
              "max         NaN      NaN  "
            ]
          },
          "metadata": {
            "tags": []
          },
          "execution_count": 59
        }
      ]
    },
    {
      "cell_type": "markdown",
      "metadata": {
        "id": "yD_hyMVGWLZ0"
      },
      "source": [
        "### 4.1.5. Data Type - Train Data"
      ]
    },
    {
      "cell_type": "code",
      "metadata": {
        "colab": {
          "base_uri": "https://localhost:8080/"
        },
        "id": "ZWsab-RhVRQk",
        "outputId": "7a53b72d-5ad7-4973-aa9e-fb2eaab0b210"
      },
      "source": [
        "train_dtype = train_df.dtypes\n",
        "train_dtype.value_counts()"
      ],
      "execution_count": 60,
      "outputs": [
        {
          "output_type": "execute_result",
          "data": {
            "text/plain": [
              "object    8\n",
              "int64     1\n",
              "dtype: int64"
            ]
          },
          "metadata": {
            "tags": []
          },
          "execution_count": 60
        }
      ]
    },
    {
      "cell_type": "markdown",
      "metadata": {
        "id": "0mgEmXnXeGCg"
      },
      "source": [
        "### 4.1.6. Null Value - Train Data"
      ]
    },
    {
      "cell_type": "code",
      "metadata": {
        "colab": {
          "base_uri": "https://localhost:8080/"
        },
        "id": "IulOWrP1WES3",
        "outputId": "5a45b281-31f7-4ca7-eedb-8cd9afce8867"
      },
      "source": [
        "train_df.isnull().sum().sort_values(ascending = False).head(10)"
      ],
      "execution_count": 61,
      "outputs": [
        {
          "output_type": "execute_result",
          "data": {
            "text/plain": [
              "category     0\n",
              "duration     0\n",
              "published    0\n",
              "comment      0\n",
              "dislikes     0\n",
              "likes        0\n",
              "views        0\n",
              "adview       0\n",
              "vidid        0\n",
              "dtype: int64"
            ]
          },
          "metadata": {
            "tags": []
          },
          "execution_count": 61
        }
      ]
    },
    {
      "cell_type": "markdown",
      "metadata": {
        "id": "EP7aNnxuta5H"
      },
      "source": [
        "### 4.1.7. Visualize missing value using **Misingno** - Train Data"
      ]
    },
    {
      "cell_type": "code",
      "metadata": {
        "colab": {
          "base_uri": "https://localhost:8080/",
          "height": 513
        },
        "id": "WyQS0jHNrvGN",
        "outputId": "23f5aca0-05d3-4a59-d70e-16cdb9ac36c8"
      },
      "source": [
        "msno.matrix(train_df)"
      ],
      "execution_count": 62,
      "outputs": [
        {
          "output_type": "execute_result",
          "data": {
            "text/plain": [
              "<matplotlib.axes._subplots.AxesSubplot at 0x7fb96dc11950>"
            ]
          },
          "metadata": {
            "tags": []
          },
          "execution_count": 62
        },
        {
          "output_type": "display_data",
          "data": {
            "image/png": "[encoded data removed]",
            "text/plain": [
              "<Figure size 1800x720 with 2 Axes>"
            ]
          },
          "metadata": {
            "tags": [],
            "needs_background": "light"
          }
        }
      ]
    },
    {
      "cell_type": "markdown",
      "metadata": {
        "id": "r77wbBEBjzjq"
      },
      "source": [
        "### 4.2. Test Data Exploration\n",
        "\n",
        "### 4.2.1. First 5 rows - Test Data"
      ]
    },
    {
      "cell_type": "code",
      "metadata": {
        "colab": {
          "base_uri": "https://localhost:8080/",
          "height": 203
        },
        "id": "gruCW1xKVRU4",
        "outputId": "638aba79-21fb-41e0-d95b-b10a71dc1c43"
      },
      "source": [
        "test_df.head()"
      ],
      "execution_count": 63,
      "outputs": [
        {
          "output_type": "execute_result",
          "data": {
            "text/html": [
              "<div>\n",
              "<style scoped>\n",
              "    .dataframe tbody tr th:only-of-type {\n",
              "        vertical-align: middle;\n",
              "    }\n",
              "\n",
              "    .dataframe tbody tr th {\n",
              "        vertical-align: top;\n",
              "    }\n",
              "\n",
              "    .dataframe thead th {\n",
              "        text-align: right;\n",
              "    }\n",
              "</style>\n",
              "<table border=\"1\" class=\"dataframe\">\n",
              "  <thead>\n",
              "    <tr style=\"text-align: right;\">\n",
              "      <th></th>\n",
              "      <th>vidid</th>\n",
              "      <th>views</th>\n",
              "      <th>likes</th>\n",
              "      <th>dislikes</th>\n",
              "      <th>comment</th>\n",
              "      <th>published</th>\n",
              "      <th>duration</th>\n",
              "      <th>category</th>\n",
              "    </tr>\n",
              "  </thead>\n",
              "  <tbody>\n",
              "    <tr>\n",
              "      <th>0</th>\n",
              "      <td>VID_1054</td>\n",
              "      <td>440238</td>\n",
              "      <td>6153</td>\n",
              "      <td>218</td>\n",
              "      <td>1377</td>\n",
              "      <td>2017-02-18</td>\n",
              "      <td>PT7M29S</td>\n",
              "      <td>B</td>\n",
              "    </tr>\n",
              "    <tr>\n",
              "      <th>1</th>\n",
              "      <td>VID_18629</td>\n",
              "      <td>1040132</td>\n",
              "      <td>8171</td>\n",
              "      <td>340</td>\n",
              "      <td>1047</td>\n",
              "      <td>2016-06-28</td>\n",
              "      <td>PT6M29S</td>\n",
              "      <td>F</td>\n",
              "    </tr>\n",
              "    <tr>\n",
              "      <th>2</th>\n",
              "      <td>VID_13967</td>\n",
              "      <td>28534</td>\n",
              "      <td>31</td>\n",
              "      <td>11</td>\n",
              "      <td>1</td>\n",
              "      <td>2014-03-10</td>\n",
              "      <td>PT37M54S</td>\n",
              "      <td>D</td>\n",
              "    </tr>\n",
              "    <tr>\n",
              "      <th>3</th>\n",
              "      <td>VID_19442</td>\n",
              "      <td>1316715</td>\n",
              "      <td>2284</td>\n",
              "      <td>250</td>\n",
              "      <td>274</td>\n",
              "      <td>2010-06-05</td>\n",
              "      <td>PT9M55S</td>\n",
              "      <td>G</td>\n",
              "    </tr>\n",
              "    <tr>\n",
              "      <th>4</th>\n",
              "      <td>VID_770</td>\n",
              "      <td>1893173</td>\n",
              "      <td>2519</td>\n",
              "      <td>225</td>\n",
              "      <td>116</td>\n",
              "      <td>2016-09-03</td>\n",
              "      <td>PT3M8S</td>\n",
              "      <td>B</td>\n",
              "    </tr>\n",
              "  </tbody>\n",
              "</table>\n",
              "</div>"
            ],
            "text/plain": [
              "       vidid    views likes dislikes comment   published  duration category\n",
              "0   VID_1054   440238  6153      218    1377  2017-02-18   PT7M29S        B\n",
              "1  VID_18629  1040132  8171      340    1047  2016-06-28   PT6M29S        F\n",
              "2  VID_13967    28534    31       11       1  2014-03-10  PT37M54S        D\n",
              "3  VID_19442  1316715  2284      250     274  2010-06-05   PT9M55S        G\n",
              "4    VID_770  1893173  2519      225     116  2016-09-03    PT3M8S        B"
            ]
          },
          "metadata": {
            "tags": []
          },
          "execution_count": 63
        }
      ]
    },
    {
      "cell_type": "markdown",
      "metadata": {
        "id": "y1D05eHDmbbi"
      },
      "source": [
        "### 4.2.2. Data Shape - Test Data"
      ]
    },
    {
      "cell_type": "code",
      "metadata": {
        "colab": {
          "base_uri": "https://localhost:8080/"
        },
        "id": "YzEMBbHdmQee",
        "outputId": "af3e4977-3fbb-4421-b1d9-c33ed4565674"
      },
      "source": [
        "test_df.shape"
      ],
      "execution_count": 64,
      "outputs": [
        {
          "output_type": "execute_result",
          "data": {
            "text/plain": [
              "(8764, 8)"
            ]
          },
          "metadata": {
            "tags": []
          },
          "execution_count": 64
        }
      ]
    },
    {
      "cell_type": "markdown",
      "metadata": {
        "id": "OcHKdbMulbdc"
      },
      "source": [
        "### 4.2.3. Data Type - Test Data"
      ]
    },
    {
      "cell_type": "code",
      "metadata": {
        "colab": {
          "base_uri": "https://localhost:8080/"
        },
        "id": "NZEjWQL0VRXB",
        "outputId": "a760cbfb-2ddf-43a6-8c6a-7175c9af057e"
      },
      "source": [
        "test_dtype = test_df.dtypes\n",
        "test_dtype.value_counts()"
      ],
      "execution_count": 65,
      "outputs": [
        {
          "output_type": "execute_result",
          "data": {
            "text/plain": [
              "object    8\n",
              "dtype: int64"
            ]
          },
          "metadata": {
            "tags": []
          },
          "execution_count": 65
        }
      ]
    },
    {
      "cell_type": "markdown",
      "metadata": {
        "id": "cNK5swKMltr0"
      },
      "source": [
        "### 4.2.4. Data Information - Test Data"
      ]
    },
    {
      "cell_type": "code",
      "metadata": {
        "colab": {
          "base_uri": "https://localhost:8080/"
        },
        "id": "rYSQ1inMVRar",
        "outputId": "a4d0a8f7-36a8-4379-eae5-c2f6859220a9"
      },
      "source": [
        "test_df.info()"
      ],
      "execution_count": 66,
      "outputs": [
        {
          "output_type": "stream",
          "text": [
            "<class 'pandas.core.frame.DataFrame'>\n",
            "RangeIndex: 8764 entries, 0 to 8763\n",
            "Data columns (total 8 columns):\n",
            " #   Column     Non-Null Count  Dtype \n",
            "---  ------     --------------  ----- \n",
            " 0   vidid      8764 non-null   object\n",
            " 1   views      8764 non-null   object\n",
            " 2   likes      8764 non-null   object\n",
            " 3   dislikes   8764 non-null   object\n",
            " 4   comment    8764 non-null   object\n",
            " 5   published  8764 non-null   object\n",
            " 6   duration   8764 non-null   object\n",
            " 7   category   8764 non-null   object\n",
            "dtypes: object(8)\n",
            "memory usage: 547.9+ KB\n"
          ],
          "name": "stdout"
        }
      ]
    },
    {
      "cell_type": "markdown",
      "metadata": {
        "id": "zAIzB-sCb0NK"
      },
      "source": [
        "### 4.2.5. Statistical analysis - Test Data"
      ]
    },
    {
      "cell_type": "code",
      "metadata": {
        "colab": {
          "base_uri": "https://localhost:8080/",
          "height": 172
        },
        "id": "9_vZHDuVbzh_",
        "outputId": "38134cc5-a902-4206-b24f-e5fdd6ff5e0b"
      },
      "source": [
        "test_df.describe(include='all')"
      ],
      "execution_count": 67,
      "outputs": [
        {
          "output_type": "execute_result",
          "data": {
            "text/html": [
              "<div>\n",
              "<style scoped>\n",
              "    .dataframe tbody tr th:only-of-type {\n",
              "        vertical-align: middle;\n",
              "    }\n",
              "\n",
              "    .dataframe tbody tr th {\n",
              "        vertical-align: top;\n",
              "    }\n",
              "\n",
              "    .dataframe thead th {\n",
              "        text-align: right;\n",
              "    }\n",
              "</style>\n",
              "<table border=\"1\" class=\"dataframe\">\n",
              "  <thead>\n",
              "    <tr style=\"text-align: right;\">\n",
              "      <th></th>\n",
              "      <th>vidid</th>\n",
              "      <th>views</th>\n",
              "      <th>likes</th>\n",
              "      <th>dislikes</th>\n",
              "      <th>comment</th>\n",
              "      <th>published</th>\n",
              "      <th>duration</th>\n",
              "      <th>category</th>\n",
              "    </tr>\n",
              "  </thead>\n",
              "  <tbody>\n",
              "    <tr>\n",
              "      <th>count</th>\n",
              "      <td>8764</td>\n",
              "      <td>8764</td>\n",
              "      <td>8764</td>\n",
              "      <td>8764</td>\n",
              "      <td>8764</td>\n",
              "      <td>8764</td>\n",
              "      <td>8764</td>\n",
              "      <td>8764</td>\n",
              "    </tr>\n",
              "    <tr>\n",
              "      <th>unique</th>\n",
              "      <td>8764</td>\n",
              "      <td>8605</td>\n",
              "      <td>3434</td>\n",
              "      <td>1215</td>\n",
              "      <td>1556</td>\n",
              "      <td>2109</td>\n",
              "      <td>2330</td>\n",
              "      <td>8</td>\n",
              "    </tr>\n",
              "    <tr>\n",
              "      <th>top</th>\n",
              "      <td>VID_14440</td>\n",
              "      <td>36679</td>\n",
              "      <td>2</td>\n",
              "      <td>0</td>\n",
              "      <td>0</td>\n",
              "      <td>2016-08-26</td>\n",
              "      <td>PT31S</td>\n",
              "      <td>D</td>\n",
              "    </tr>\n",
              "    <tr>\n",
              "      <th>freq</th>\n",
              "      <td>1</td>\n",
              "      <td>3</td>\n",
              "      <td>89</td>\n",
              "      <td>662</td>\n",
              "      <td>727</td>\n",
              "      <td>32</td>\n",
              "      <td>120</td>\n",
              "      <td>4419</td>\n",
              "    </tr>\n",
              "  </tbody>\n",
              "</table>\n",
              "</div>"
            ],
            "text/plain": [
              "            vidid  views likes dislikes comment   published duration category\n",
              "count        8764   8764  8764     8764    8764        8764     8764     8764\n",
              "unique       8764   8605  3434     1215    1556        2109     2330        8\n",
              "top     VID_14440  36679     2        0       0  2016-08-26    PT31S        D\n",
              "freq            1      3    89      662     727          32      120     4419"
            ]
          },
          "metadata": {
            "tags": []
          },
          "execution_count": 67
        }
      ]
    },
    {
      "cell_type": "markdown",
      "metadata": {
        "id": "iz9-fW3Bmxlq"
      },
      "source": [
        "### 4.2.6. Null Data - Test Data"
      ]
    },
    {
      "cell_type": "code",
      "metadata": {
        "colab": {
          "base_uri": "https://localhost:8080/"
        },
        "id": "-kRfFhJQmQhQ",
        "outputId": "ff9e53bc-d406-44c2-83b8-688a22dcdc97"
      },
      "source": [
        "test_df.isnull().sum().sort_values(ascending = False).head(10)"
      ],
      "execution_count": 68,
      "outputs": [
        {
          "output_type": "execute_result",
          "data": {
            "text/plain": [
              "category     0\n",
              "duration     0\n",
              "published    0\n",
              "comment      0\n",
              "dislikes     0\n",
              "likes        0\n",
              "views        0\n",
              "vidid        0\n",
              "dtype: int64"
            ]
          },
          "metadata": {
            "tags": []
          },
          "execution_count": 68
        }
      ]
    },
    {
      "cell_type": "markdown",
      "metadata": {
        "id": "8G5ezElLvPwy"
      },
      "source": [
        "### 4.2.7. Visualize missing value using **Misingno** - Test Data"
      ]
    },
    {
      "cell_type": "code",
      "metadata": {
        "colab": {
          "base_uri": "https://localhost:8080/",
          "height": 517
        },
        "id": "JkJ3y5rWvU0M",
        "outputId": "9d2bfaec-cc92-47a4-d339-0e93b79805c5"
      },
      "source": [
        "msno.matrix(test_df)"
      ],
      "execution_count": 69,
      "outputs": [
        {
          "output_type": "execute_result",
          "data": {
            "text/plain": [
              "<matplotlib.axes._subplots.AxesSubplot at 0x7fb96db0c610>"
            ]
          },
          "metadata": {
            "tags": []
          },
          "execution_count": 69
        },
        {
          "output_type": "display_data",
          "data": {
            "image/png": "[encoded data removed]",
            "text/plain": [
              "<Figure size 1800x720 with 2 Axes>"
            ]
          },
          "metadata": {
            "tags": [],
            "needs_background": "light"
          }
        }
      ]
    },
    {
      "cell_type": "markdown",
      "metadata": {
        "id": "hHSmyv0ef5oI"
      },
      "source": [
        "### 4.2.8. Report - Data Exploration\n",
        "- The shape of train and test datasets are (14999, 9) & (8764, 8)\n",
        "- There is no null value present in both dataset.\n",
        "- Some categorical columns should convert to numerical.\n",
        "- e.g 'views', 'likes', 'dislikes', 'comment'.\n"
      ]
    },
    {
      "cell_type": "markdown",
      "metadata": {
        "id": "SPJbHi99qs9A"
      },
      "source": [
        "### 4.3. Train & Test Data Comparison\n",
        "\n",
        "Here we'll compare below things between train and test dataset.\n",
        "- Data Type\n",
        "- Null values\n",
        "- Data Distribution"
      ]
    },
    {
      "cell_type": "markdown",
      "metadata": {
        "id": "vaxYtEf3lkkr"
      },
      "source": [
        "### 4.3.1. Data Type Comparison"
      ]
    },
    {
      "cell_type": "code",
      "metadata": {
        "colab": {
          "base_uri": "https://localhost:8080/",
          "height": 49
        },
        "id": "mHIS1zJkm65P",
        "outputId": "236bebfb-e6d3-4031-e890-0b05d63d03a9"
      },
      "source": [
        "# as 'SalePrice' Column is not available in test dataset. So we'll delete it.\n",
        "trn_dtype = train_dtype.drop('adview')\n",
        "trn_dtype.compare(test_dtype)"
      ],
      "execution_count": 70,
      "outputs": [
        {
          "output_type": "execute_result",
          "data": {
            "text/html": [
              "<div>\n",
              "<style scoped>\n",
              "    .dataframe tbody tr th:only-of-type {\n",
              "        vertical-align: middle;\n",
              "    }\n",
              "\n",
              "    .dataframe tbody tr th {\n",
              "        vertical-align: top;\n",
              "    }\n",
              "\n",
              "    .dataframe thead th {\n",
              "        text-align: right;\n",
              "    }\n",
              "</style>\n",
              "<table border=\"1\" class=\"dataframe\">\n",
              "  <thead>\n",
              "    <tr style=\"text-align: right;\">\n",
              "      <th></th>\n",
              "      <th>self</th>\n",
              "      <th>other</th>\n",
              "    </tr>\n",
              "  </thead>\n",
              "  <tbody>\n",
              "  </tbody>\n",
              "</table>\n",
              "</div>"
            ],
            "text/plain": [
              "Empty DataFrame\n",
              "Columns: [self, other]\n",
              "Index: []"
            ]
          },
          "metadata": {
            "tags": []
          },
          "execution_count": 70
        }
      ]
    },
    {
      "cell_type": "markdown",
      "metadata": {
        "id": "C6yMp9W8YOro"
      },
      "source": [
        "- The data type of each columns is same in both train and test dataframe"
      ]
    },
    {
      "cell_type": "markdown",
      "metadata": {
        "id": "-0OYo4q3mLbz"
      },
      "source": [
        "### 4.3.2. Null Value Comparison"
      ]
    },
    {
      "cell_type": "code",
      "metadata": {
        "colab": {
          "base_uri": "https://localhost:8080/",
          "height": 49
        },
        "id": "i6LSUa3um69Q",
        "outputId": "7c9f579b-1f32-4991-a011-79be23c1b61e"
      },
      "source": [
        "null_train = train_df.isnull().sum()\n",
        "null_test = test_df.isnull().sum()\n",
        "null_train = null_train.drop('adview')\n",
        "null_comp_df = null_train.compare(null_test).sort_values(['self'],ascending = [False])\n",
        "null_comp_df  "
      ],
      "execution_count": 71,
      "outputs": [
        {
          "output_type": "execute_result",
          "data": {
            "text/html": [
              "<div>\n",
              "<style scoped>\n",
              "    .dataframe tbody tr th:only-of-type {\n",
              "        vertical-align: middle;\n",
              "    }\n",
              "\n",
              "    .dataframe tbody tr th {\n",
              "        vertical-align: top;\n",
              "    }\n",
              "\n",
              "    .dataframe thead th {\n",
              "        text-align: right;\n",
              "    }\n",
              "</style>\n",
              "<table border=\"1\" class=\"dataframe\">\n",
              "  <thead>\n",
              "    <tr style=\"text-align: right;\">\n",
              "      <th></th>\n",
              "      <th>self</th>\n",
              "      <th>other</th>\n",
              "    </tr>\n",
              "  </thead>\n",
              "  <tbody>\n",
              "  </tbody>\n",
              "</table>\n",
              "</div>"
            ],
            "text/plain": [
              "Empty DataFrame\n",
              "Columns: [self, other]\n",
              "Index: []"
            ]
          },
          "metadata": {
            "tags": []
          },
          "execution_count": 71
        }
      ]
    },
    {
      "cell_type": "markdown",
      "metadata": {
        "id": "mcV8GtUIohxs"
      },
      "source": [
        "- Here we can see that there is no null value present in test and train dataset."
      ]
    },
    {
      "cell_type": "markdown",
      "metadata": {
        "id": "eTXQ96ch5mu6"
      },
      "source": [
        "### 4.3.3. Distribution Comparison\n",
        "Before going for distribution comparison,let's do some data preprocessing which will help in data analysis."
      ]
    },
    {
      "cell_type": "markdown",
      "metadata": {
        "id": "S19HPQ5vqGJv"
      },
      "source": [
        "### 4.3.3.1 Convert Categorical column to numerical"
      ]
    },
    {
      "cell_type": "code",
      "metadata": {
        "id": "o2-BcVSpqBQp"
      },
      "source": [
        "convert_col = ['views', 'likes', 'dislikes', 'comment']\n",
        "# these columns contain 'F' letter. So replace it by '0'. As we are converting columns to numerical.\n",
        "for col in convert_col:\n",
        "  train_df[col].replace({\"F\": 0}, inplace=True)\n",
        "  test_df[col].replace({\"F\": 0}, inplace=True)\n",
        "\n",
        "\n",
        "# Convert \"categorical\" feature to \"numerical\"\n",
        "for col in convert_col:\n",
        "  train_df[col] = train_df[col].astype('int')\n",
        "  test_df[col] = test_df[col].astype('int')"
      ],
      "execution_count": 72,
      "outputs": []
    },
    {
      "cell_type": "markdown",
      "metadata": {
        "id": "fsrOe5WQqlgO"
      },
      "source": [
        "### 4.3.3.2. Temporal variable analysis"
      ]
    },
    {
      "cell_type": "code",
      "metadata": {
        "colab": {
          "base_uri": "https://localhost:8080/",
          "height": 203
        },
        "id": "wYDiWyAotVQC",
        "outputId": "7877c235-4b8a-4780-f608-c9ee751e14f7"
      },
      "source": [
        "train_df.head()"
      ],
      "execution_count": 73,
      "outputs": [
        {
          "output_type": "execute_result",
          "data": {
            "text/html": [
              "<div>\n",
              "<style scoped>\n",
              "    .dataframe tbody tr th:only-of-type {\n",
              "        vertical-align: middle;\n",
              "    }\n",
              "\n",
              "    .dataframe tbody tr th {\n",
              "        vertical-align: top;\n",
              "    }\n",
              "\n",
              "    .dataframe thead th {\n",
              "        text-align: right;\n",
              "    }\n",
              "</style>\n",
              "<table border=\"1\" class=\"dataframe\">\n",
              "  <thead>\n",
              "    <tr style=\"text-align: right;\">\n",
              "      <th></th>\n",
              "      <th>vidid</th>\n",
              "      <th>adview</th>\n",
              "      <th>views</th>\n",
              "      <th>likes</th>\n",
              "      <th>dislikes</th>\n",
              "      <th>comment</th>\n",
              "      <th>published</th>\n",
              "      <th>duration</th>\n",
              "      <th>category</th>\n",
              "    </tr>\n",
              "  </thead>\n",
              "  <tbody>\n",
              "    <tr>\n",
              "      <th>0</th>\n",
              "      <td>VID_18655</td>\n",
              "      <td>40</td>\n",
              "      <td>1031602</td>\n",
              "      <td>8523</td>\n",
              "      <td>363</td>\n",
              "      <td>1095</td>\n",
              "      <td>2016-09-14</td>\n",
              "      <td>PT7M37S</td>\n",
              "      <td>F</td>\n",
              "    </tr>\n",
              "    <tr>\n",
              "      <th>1</th>\n",
              "      <td>VID_14135</td>\n",
              "      <td>2</td>\n",
              "      <td>1707</td>\n",
              "      <td>56</td>\n",
              "      <td>2</td>\n",
              "      <td>6</td>\n",
              "      <td>2016-10-01</td>\n",
              "      <td>PT9M30S</td>\n",
              "      <td>D</td>\n",
              "    </tr>\n",
              "    <tr>\n",
              "      <th>2</th>\n",
              "      <td>VID_2187</td>\n",
              "      <td>1</td>\n",
              "      <td>2023</td>\n",
              "      <td>25</td>\n",
              "      <td>0</td>\n",
              "      <td>2</td>\n",
              "      <td>2016-07-02</td>\n",
              "      <td>PT2M16S</td>\n",
              "      <td>C</td>\n",
              "    </tr>\n",
              "    <tr>\n",
              "      <th>3</th>\n",
              "      <td>VID_23096</td>\n",
              "      <td>6</td>\n",
              "      <td>620860</td>\n",
              "      <td>777</td>\n",
              "      <td>161</td>\n",
              "      <td>153</td>\n",
              "      <td>2016-07-27</td>\n",
              "      <td>PT4M22S</td>\n",
              "      <td>H</td>\n",
              "    </tr>\n",
              "    <tr>\n",
              "      <th>4</th>\n",
              "      <td>VID_10175</td>\n",
              "      <td>1</td>\n",
              "      <td>666</td>\n",
              "      <td>1</td>\n",
              "      <td>0</td>\n",
              "      <td>0</td>\n",
              "      <td>2016-06-29</td>\n",
              "      <td>PT31S</td>\n",
              "      <td>D</td>\n",
              "    </tr>\n",
              "  </tbody>\n",
              "</table>\n",
              "</div>"
            ],
            "text/plain": [
              "       vidid  adview    views  likes  dislikes  comment   published duration  \\\n",
              "0  VID_18655      40  1031602   8523       363     1095  2016-09-14  PT7M37S   \n",
              "1  VID_14135       2     1707     56         2        6  2016-10-01  PT9M30S   \n",
              "2   VID_2187       1     2023     25         0        2  2016-07-02  PT2M16S   \n",
              "3  VID_23096       6   620860    777       161      153  2016-07-27  PT4M22S   \n",
              "4  VID_10175       1      666      1         0        0  2016-06-29    PT31S   \n",
              "\n",
              "  category  \n",
              "0        F  \n",
              "1        D  \n",
              "2        C  \n",
              "3        H  \n",
              "4        D  "
            ]
          },
          "metadata": {
            "tags": []
          },
          "execution_count": 73
        }
      ]
    },
    {
      "cell_type": "code",
      "metadata": {
        "id": "ehdTdXj0qiQK"
      },
      "source": [
        "# convert \"duration\" column format into \"second\" format\n",
        "def checki(x):\n",
        "    y = x[2:]\n",
        "    h = ''\n",
        "    m = ''\n",
        "    s = ''\n",
        "    mm = ''\n",
        "    P = ['H','M','S']\n",
        "    for i in y:\n",
        "        if i not in P:\n",
        "            mm+=i\n",
        "        else:\n",
        "            if(i==\"H\"):\n",
        "                h = mm\n",
        "                mm = ''\n",
        "            elif(i == \"M\"):\n",
        "                m = mm\n",
        "                mm = ''\n",
        "            else:\n",
        "                s = mm\n",
        "                mm = ''\n",
        "    if(h==''):\n",
        "        h = '00'\n",
        "    if(m == ''):\n",
        "        m = '00'\n",
        "    if(s==''):\n",
        "        s='00'\n",
        "    bp = h+':'+m+':'+s\n",
        "    return bp\n",
        "\n",
        "train_mp = train_df[\"duration\"]\n",
        "test_mp = test_df[\"duration\"]\n",
        "\n",
        "train_time = train_mp.apply(checki)\n",
        "test_time = test_mp.apply(checki)\n",
        "\n",
        "def func_sec(time_string):\n",
        "    h, m, s = time_string.split(\":\")\n",
        "    return int(h) * 3600 + int(m) * 60 + int(s)\n",
        "\n",
        "train_time=train_time.apply(func_sec)\n",
        "test_time=test_time.apply(func_sec)\n",
        "\n",
        "train_df[\"duration\"]=train_time\n",
        "test_df[\"duration\"]=test_time\n",
        "# train_df.head()"
      ],
      "execution_count": 74,
      "outputs": []
    },
    {
      "cell_type": "markdown",
      "metadata": {
        "id": "B_bUANhOzmAk"
      },
      "source": [
        "### 4.3.3.3. Convert 'date' to 'year' format in 'published' column"
      ]
    },
    {
      "cell_type": "code",
      "metadata": {
        "id": "L1w9QeI2vVpK"
      },
      "source": [
        "train_df['published'] = pd.DatetimeIndex(train_df['published']).year\n",
        "test_df['published'] = pd.DatetimeIndex(test_df['published']).year\n",
        "\n",
        "# convert to numerical feature\n",
        "train_df['published'] = train_df['published'].astype('int')\n",
        "test_df['published'] = test_df['published'].astype('int')"
      ],
      "execution_count": 75,
      "outputs": []
    },
    {
      "cell_type": "code",
      "metadata": {
        "colab": {
          "base_uri": "https://localhost:8080/",
          "height": 203
        },
        "id": "xEK45v3LxCnr",
        "outputId": "4bb5bf94-2fe7-4479-9ad3-504beb13e585"
      },
      "source": [
        "train_df.head()"
      ],
      "execution_count": 76,
      "outputs": [
        {
          "output_type": "execute_result",
          "data": {
            "text/html": [
              "<div>\n",
              "<style scoped>\n",
              "    .dataframe tbody tr th:only-of-type {\n",
              "        vertical-align: middle;\n",
              "    }\n",
              "\n",
              "    .dataframe tbody tr th {\n",
              "        vertical-align: top;\n",
              "    }\n",
              "\n",
              "    .dataframe thead th {\n",
              "        text-align: right;\n",
              "    }\n",
              "</style>\n",
              "<table border=\"1\" class=\"dataframe\">\n",
              "  <thead>\n",
              "    <tr style=\"text-align: right;\">\n",
              "      <th></th>\n",
              "      <th>vidid</th>\n",
              "      <th>adview</th>\n",
              "      <th>views</th>\n",
              "      <th>likes</th>\n",
              "      <th>dislikes</th>\n",
              "      <th>comment</th>\n",
              "      <th>published</th>\n",
              "      <th>duration</th>\n",
              "      <th>category</th>\n",
              "    </tr>\n",
              "  </thead>\n",
              "  <tbody>\n",
              "    <tr>\n",
              "      <th>0</th>\n",
              "      <td>VID_18655</td>\n",
              "      <td>40</td>\n",
              "      <td>1031602</td>\n",
              "      <td>8523</td>\n",
              "      <td>363</td>\n",
              "      <td>1095</td>\n",
              "      <td>2016</td>\n",
              "      <td>457</td>\n",
              "      <td>F</td>\n",
              "    </tr>\n",
              "    <tr>\n",
              "      <th>1</th>\n",
              "      <td>VID_14135</td>\n",
              "      <td>2</td>\n",
              "      <td>1707</td>\n",
              "      <td>56</td>\n",
              "      <td>2</td>\n",
              "      <td>6</td>\n",
              "      <td>2016</td>\n",
              "      <td>570</td>\n",
              "      <td>D</td>\n",
              "    </tr>\n",
              "    <tr>\n",
              "      <th>2</th>\n",
              "      <td>VID_2187</td>\n",
              "      <td>1</td>\n",
              "      <td>2023</td>\n",
              "      <td>25</td>\n",
              "      <td>0</td>\n",
              "      <td>2</td>\n",
              "      <td>2016</td>\n",
              "      <td>136</td>\n",
              "      <td>C</td>\n",
              "    </tr>\n",
              "    <tr>\n",
              "      <th>3</th>\n",
              "      <td>VID_23096</td>\n",
              "      <td>6</td>\n",
              "      <td>620860</td>\n",
              "      <td>777</td>\n",
              "      <td>161</td>\n",
              "      <td>153</td>\n",
              "      <td>2016</td>\n",
              "      <td>262</td>\n",
              "      <td>H</td>\n",
              "    </tr>\n",
              "    <tr>\n",
              "      <th>4</th>\n",
              "      <td>VID_10175</td>\n",
              "      <td>1</td>\n",
              "      <td>666</td>\n",
              "      <td>1</td>\n",
              "      <td>0</td>\n",
              "      <td>0</td>\n",
              "      <td>2016</td>\n",
              "      <td>31</td>\n",
              "      <td>D</td>\n",
              "    </tr>\n",
              "  </tbody>\n",
              "</table>\n",
              "</div>"
            ],
            "text/plain": [
              "       vidid  adview    views  likes  dislikes  comment  published  duration  \\\n",
              "0  VID_18655      40  1031602   8523       363     1095       2016       457   \n",
              "1  VID_14135       2     1707     56         2        6       2016       570   \n",
              "2   VID_2187       1     2023     25         0        2       2016       136   \n",
              "3  VID_23096       6   620860    777       161      153       2016       262   \n",
              "4  VID_10175       1      666      1         0        0       2016        31   \n",
              "\n",
              "  category  \n",
              "0        F  \n",
              "1        D  \n",
              "2        C  \n",
              "3        H  \n",
              "4        D  "
            ]
          },
          "metadata": {
            "tags": []
          },
          "execution_count": 76
        }
      ]
    },
    {
      "cell_type": "code",
      "metadata": {
        "colab": {
          "base_uri": "https://localhost:8080/"
        },
        "id": "IxaxNjKjgKKv",
        "outputId": "7a5c86a0-bc43-4de5-e85c-072bea117c8e"
      },
      "source": [
        "numerical_features = [col for col in train_df.columns if train_df[col].dtypes != 'O']\n",
        "discrete_features = [col for col in numerical_features if len(train_df[col].unique()) < 10 and col not in ['vidid']]\n",
        "continuous_features = [feature for feature in numerical_features if feature not in discrete_features+['vidid']]\n",
        "categorical_features = [col for col in train_df.columns if train_df[col].dtype == 'O']\n",
        "\n",
        "print(\"Total Number of Numerical Columns : \",len(numerical_features))\n",
        "print(\"Number of discrete features : \",len(discrete_features))\n",
        "print(\"No of continuous features are : \", len(continuous_features))\n",
        "print(\"Number of categorical features : \",len(categorical_features))"
      ],
      "execution_count": 77,
      "outputs": [
        {
          "output_type": "stream",
          "text": [
            "Total Number of Numerical Columns :  7\n",
            "Number of discrete features :  0\n",
            "No of continuous features are :  7\n",
            "Number of categorical features :  2\n"
          ],
          "name": "stdout"
        }
      ]
    },
    {
      "cell_type": "markdown",
      "metadata": {
        "id": "3YdIZ1TxV1AO"
      },
      "source": [
        "### 4.3.3.4. Concat Train and Test datasets"
      ]
    },
    {
      "cell_type": "code",
      "metadata": {
        "id": "iBGkVUWEmSuz"
      },
      "source": [
        "# combined train and test datasets\n",
        "combined_df = pd.concat([train_df,test_df],axis=0)\n",
        "\n",
        "combined_df[\"Label\"] = \"test\"\n",
        "combined_df[\"Label\"][:14999] = \"train\""
      ],
      "execution_count": 78,
      "outputs": []
    },
    {
      "cell_type": "markdown",
      "metadata": {
        "id": "uGp9-zq2nQIg"
      },
      "source": [
        "### 4.3.4. Distribution Comparison - Continuous"
      ]
    },
    {
      "cell_type": "code",
      "metadata": {
        "colab": {
          "base_uri": "https://localhost:8080/",
          "height": 474
        },
        "id": "7c5BsoLGsl3A",
        "outputId": "3d295e11-46ab-49a9-ae2f-4a057c328e06"
      },
      "source": [
        "plt.figure(figsize=(20, 8))\n",
        "continuous_features = ['views', 'comment', 'likes', 'dislikes','published', 'duration']\n",
        "pos = 1\n",
        "for i, feature in enumerate(continuous_features):\n",
        "  plt.subplot(2 , 3 , pos)\n",
        "  sns.distplot(test_df[feature], hist = False, kde = True, kde_kws = {'linewidth': 3},color='r' )\n",
        "  sns.distplot(train_df[feature], hist = False, kde = True, kde_kws = {'linewidth': 3} ,color='b')\n",
        "  pos = pos + 1\n"
      ],
      "execution_count": 79,
      "outputs": [
        {
          "output_type": "display_data",
          "data": {
            "image/png": "[encoded data removed]",
            "text/plain": [
              "<Figure size 1440x576 with 6 Axes>"
            ]
          },
          "metadata": {
            "tags": [],
            "needs_background": "light"
          }
        }
      ]
    },
    {
      "cell_type": "markdown",
      "metadata": {
        "id": "QwCd_IwF_bPJ"
      },
      "source": [
        "Above distribution shows that:\n",
        "- The distribution of train and test data are similar for most continous features.\n",
        "- All distributions are not **normally distributed**."
      ]
    },
    {
      "cell_type": "markdown",
      "metadata": {
        "id": "CGBkcLd9_6br"
      },
      "source": [
        "### 4.3.5. Linearity Check\n",
        "Here we'll see the linearity between all features and the target variable."
      ]
    },
    {
      "cell_type": "code",
      "metadata": {
        "colab": {
          "base_uri": "https://localhost:8080/",
          "height": 488
        },
        "id": "YTgiWIC3mS85",
        "outputId": "9b26a9c5-b5ec-4b27-bed7-4bf00c18f370"
      },
      "source": [
        "plt.figure(figsize=(20, 8))\n",
        "pos = 1\n",
        "for i, feature in enumerate(continuous_features):\n",
        "  plt.subplot(2 , 3 , pos)\n",
        "  sns.scatterplot(data=combined_df, x = feature, y= \"adview\")\n",
        "  pos = pos + 1\n"
      ],
      "execution_count": 80,
      "outputs": [
        {
          "output_type": "display_data",
          "data": {
            "image/png": "[encoded data removed]",
            "text/plain": [
              "<Figure size 1440x576 with 6 Axes>"
            ]
          },
          "metadata": {
            "tags": [],
            "needs_background": "light"
          }
        }
      ]
    },
    {
      "cell_type": "markdown",
      "metadata": {
        "id": "lKiydLMjSJNB"
      },
      "source": [
        "### 4.3.6. Distribution Comparison - Categorical \n",
        "- There are two categorical features. These are **\"category\", \"vidid\"**.\n",
        "- **\"vidid\"** is the id of video. So it has no impact to target variable.\n",
        "- So we'll only check the distribution of **\"category\"** column."
      ]
    },
    {
      "cell_type": "code",
      "metadata": {
        "colab": {
          "base_uri": "https://localhost:8080/",
          "height": 341
        },
        "id": "Y41ZbAAamS-_",
        "outputId": "81901140-6b8a-4c3a-bfee-1f1a9a983d94"
      },
      "source": [
        "plt.figure(figsize=(30, 8))\n",
        "sns.countplot(data = combined_df, x = 'category', hue=\"Label\")"
      ],
      "execution_count": 81,
      "outputs": [
        {
          "output_type": "execute_result",
          "data": {
            "text/plain": [
              "<matplotlib.axes._subplots.AxesSubplot at 0x7fb972109910>"
            ]
          },
          "metadata": {
            "tags": []
          },
          "execution_count": 81
        },
        {
          "output_type": "display_data",
          "data": {
            "image/png": "[encoded data removed]",
            "text/plain": [
              "<Figure size 2160x576 with 1 Axes>"
            ]
          },
          "metadata": {
            "tags": [],
            "needs_background": "light"
          }
        }
      ]
    },
    {
      "cell_type": "markdown",
      "metadata": {
        "id": "aeZq8T5nnHAN"
      },
      "source": [
        "Above distribution shows that:\n",
        "\n",
        "- The distribution of train and test data are similar for most categorical features.\n"
      ]
    },
    {
      "cell_type": "markdown",
      "metadata": {
        "id": "fPP7bOYAmBoz"
      },
      "source": [
        "### 4.3.7. Distribution - Target Variable"
      ]
    },
    {
      "cell_type": "code",
      "metadata": {
        "colab": {
          "base_uri": "https://localhost:8080/",
          "height": 307
        },
        "id": "j6ne0ZWFmIsT",
        "outputId": "5d4107c1-5e7f-4335-9c7a-ea15e664557a"
      },
      "source": [
        "sns.distplot(train_df[\"adview\"], hist = False, kde = True, kde_kws = {'linewidth': 3} ,color='b')"
      ],
      "execution_count": 82,
      "outputs": [
        {
          "output_type": "execute_result",
          "data": {
            "text/plain": [
              "<matplotlib.axes._subplots.AxesSubplot at 0x7fb97219eed0>"
            ]
          },
          "metadata": {
            "tags": []
          },
          "execution_count": 82
        },
        {
          "output_type": "display_data",
          "data": {
            "image/png": "[encoded data removed]",
            "text/plain": [
              "<Figure size 432x288 with 1 Axes>"
            ]
          },
          "metadata": {
            "tags": [],
            "needs_background": "light"
          }
        }
      ]
    },
    {
      "cell_type": "markdown",
      "metadata": {
        "id": "JG7-JA4Jd8T8"
      },
      "source": [
        "### 4.3.8. Data Correlation"
      ]
    },
    {
      "cell_type": "code",
      "metadata": {
        "colab": {
          "base_uri": "https://localhost:8080/",
          "height": 613
        },
        "id": "2rPQ_r3DOoik",
        "outputId": "c7a02de1-e7aa-4d82-d6c9-20b2230fd75f"
      },
      "source": [
        "training_corr = train_df.corr(method='spearman') \n",
        "plt.figure(figsize=(20,10))\n",
        "sns.heatmap(training_corr,cmap=\"YlGnBu\", linewidths=.5) "
      ],
      "execution_count": 83,
      "outputs": [
        {
          "output_type": "execute_result",
          "data": {
            "text/plain": [
              "<matplotlib.axes._subplots.AxesSubplot at 0x7fb96e46ae50>"
            ]
          },
          "metadata": {
            "tags": []
          },
          "execution_count": 83
        },
        {
          "output_type": "display_data",
          "data": {
            "image/png": "[encoded data removed]",
            "text/plain": [
              "<Figure size 1440x720 with 2 Axes>"
            ]
          },
          "metadata": {
            "tags": [],
            "needs_background": "light"
          }
        }
      ]
    },
    {
      "cell_type": "markdown",
      "metadata": {
        "id": "zdHtzXr64cF7"
      },
      "source": [
        "#**5. Feature Engineering**"
      ]
    },
    {
      "cell_type": "markdown",
      "metadata": {
        "id": "Vcc7VuKBItVu"
      },
      "source": [
        "### 5.1. Drop Columns\n",
        "Here we'll drop unnecessary columns\n",
        "\n"
      ]
    },
    {
      "cell_type": "code",
      "metadata": {
        "colab": {
          "base_uri": "https://localhost:8080/"
        },
        "id": "SH4ZnBsnWPgp",
        "outputId": "e8fc01ab-bb2b-47bf-d4bd-0b572127271e"
      },
      "source": [
        "drop_columns = [\"vidid\",'Label','published','duration']\n",
        "\n",
        "#  Drop columns\n",
        "print(\"Number of columns before dropping : \",len(combined_df.columns))\n",
        "print(\"Number of dropping columns : \",len(drop_columns))\n",
        "combined_df.drop(columns=drop_columns, inplace=True, errors='ignore')\n",
        "print(\"Number of columns after dropping : \",len(combined_df.columns))\n"
      ],
      "execution_count": 84,
      "outputs": [
        {
          "output_type": "stream",
          "text": [
            "Number of columns before dropping :  10\n",
            "Number of dropping columns :  4\n",
            "Number of columns after dropping :  6\n"
          ],
          "name": "stdout"
        }
      ]
    },
    {
      "cell_type": "markdown",
      "metadata": {
        "id": "mQ0OC2Pl6dwU"
      },
      "source": [
        "### 5.2. Apply PowerTransformer to columns\n",
        "- We saw in distribution of continuous features that some features are not linear towards target feature. So we need to transform this. \n",
        "- Lets check the skewness of these distributions\n"
      ]
    },
    {
      "cell_type": "code",
      "metadata": {
        "colab": {
          "base_uri": "https://localhost:8080/"
        },
        "id": "6DD6sC7y3pGW",
        "outputId": "c529ac29-c083-4c83-c43e-344e3a29eea3"
      },
      "source": [
        "# check the skew of all numerical features\n",
        "skew_check_col = ['views','likes','dislikes','comment']\n",
        "skewed_feats = combined_df[skew_check_col].apply(lambda x : skew(x.dropna())).sort_values(ascending = False)\n",
        "print('\\n Skew in numberical features: \\n')\n",
        "skewness_df = pd.DataFrame({'Skew' : skewed_feats})\n",
        "print(skewness_df.head(7))"
      ],
      "execution_count": 85,
      "outputs": [
        {
          "output_type": "stream",
          "text": [
            "\n",
            " Skew in numberical features: \n",
            "\n",
            "               Skew\n",
            "views     29.926939\n",
            "comment   18.761969\n",
            "dislikes  18.269315\n",
            "likes     11.914098\n"
          ],
          "name": "stdout"
        }
      ]
    },
    {
      "cell_type": "code",
      "metadata": {
        "colab": {
          "base_uri": "https://localhost:8080/"
        },
        "id": "YP4GZWuB-i0d",
        "outputId": "f64456ba-9ba1-4e3d-df41-d0e4eb86acee"
      },
      "source": [
        "\n",
        "for col in skew_check_col:\n",
        "  power = PowerTransformer(method='yeo-johnson', standardize=True)\n",
        "  combined_df[[col]] = power.fit_transform(combined_df[[col]]) # fit with combined_data to avoid overfitting with training data\n",
        "\n",
        "print('Number of skewed numerical features got transform : ', len(skew_check_col))"
      ],
      "execution_count": 86,
      "outputs": [
        {
          "output_type": "stream",
          "text": [
            "Number of skewed numerical features got transform :  4\n"
          ],
          "name": "stdout"
        }
      ]
    },
    {
      "cell_type": "markdown",
      "metadata": {
        "id": "8u6RPmOS_xgg"
      },
      "source": [
        "### 5.7. Encoding Categorical Features\n",
        "\n",
        "### Get-Dummies\n"
      ]
    },
    {
      "cell_type": "code",
      "metadata": {
        "id": "1a4lHQtv-i2K"
      },
      "source": [
        "# Generate one-hot dummy columns\n",
        "combined_df = pd.get_dummies(combined_df).reset_index(drop=True)\n"
      ],
      "execution_count": 87,
      "outputs": []
    },
    {
      "cell_type": "code",
      "metadata": {
        "colab": {
          "base_uri": "https://localhost:8080/",
          "height": 223
        },
        "id": "ZDNBu_erxces",
        "outputId": "58e1a1d0-196a-4d65-c658-96c3876fbb59"
      },
      "source": [
        "combined_df.head()"
      ],
      "execution_count": 88,
      "outputs": [
        {
          "output_type": "execute_result",
          "data": {
            "text/html": [
              "<div>\n",
              "<style scoped>\n",
              "    .dataframe tbody tr th:only-of-type {\n",
              "        vertical-align: middle;\n",
              "    }\n",
              "\n",
              "    .dataframe tbody tr th {\n",
              "        vertical-align: top;\n",
              "    }\n",
              "\n",
              "    .dataframe thead th {\n",
              "        text-align: right;\n",
              "    }\n",
              "</style>\n",
              "<table border=\"1\" class=\"dataframe\">\n",
              "  <thead>\n",
              "    <tr style=\"text-align: right;\">\n",
              "      <th></th>\n",
              "      <th>adview</th>\n",
              "      <th>views</th>\n",
              "      <th>likes</th>\n",
              "      <th>dislikes</th>\n",
              "      <th>comment</th>\n",
              "      <th>category_A</th>\n",
              "      <th>category_B</th>\n",
              "      <th>category_C</th>\n",
              "      <th>category_D</th>\n",
              "      <th>category_E</th>\n",
              "      <th>category_F</th>\n",
              "      <th>category_G</th>\n",
              "      <th>category_H</th>\n",
              "    </tr>\n",
              "  </thead>\n",
              "  <tbody>\n",
              "    <tr>\n",
              "      <th>0</th>\n",
              "      <td>40.0</td>\n",
              "      <td>1.000244</td>\n",
              "      <td>1.441680</td>\n",
              "      <td>1.103359</td>\n",
              "      <td>1.398827</td>\n",
              "      <td>0</td>\n",
              "      <td>0</td>\n",
              "      <td>0</td>\n",
              "      <td>0</td>\n",
              "      <td>0</td>\n",
              "      <td>1</td>\n",
              "      <td>0</td>\n",
              "      <td>0</td>\n",
              "    </tr>\n",
              "    <tr>\n",
              "      <th>1</th>\n",
              "      <td>2.0</td>\n",
              "      <td>-1.693941</td>\n",
              "      <td>-0.819659</td>\n",
              "      <td>-1.200594</td>\n",
              "      <td>-0.781064</td>\n",
              "      <td>0</td>\n",
              "      <td>0</td>\n",
              "      <td>0</td>\n",
              "      <td>1</td>\n",
              "      <td>0</td>\n",
              "      <td>0</td>\n",
              "      <td>0</td>\n",
              "      <td>0</td>\n",
              "    </tr>\n",
              "    <tr>\n",
              "      <th>2</th>\n",
              "      <td>1.0</td>\n",
              "      <td>-1.641413</td>\n",
              "      <td>-1.119185</td>\n",
              "      <td>-1.747128</td>\n",
              "      <td>-1.168045</td>\n",
              "      <td>0</td>\n",
              "      <td>0</td>\n",
              "      <td>1</td>\n",
              "      <td>0</td>\n",
              "      <td>0</td>\n",
              "      <td>0</td>\n",
              "      <td>0</td>\n",
              "      <td>0</td>\n",
              "    </tr>\n",
              "    <tr>\n",
              "      <th>3</th>\n",
              "      <td>6.0</td>\n",
              "      <td>0.722749</td>\n",
              "      <td>0.280058</td>\n",
              "      <td>0.723964</td>\n",
              "      <td>0.577704</td>\n",
              "      <td>0</td>\n",
              "      <td>0</td>\n",
              "      <td>0</td>\n",
              "      <td>0</td>\n",
              "      <td>0</td>\n",
              "      <td>0</td>\n",
              "      <td>0</td>\n",
              "      <td>1</td>\n",
              "    </tr>\n",
              "    <tr>\n",
              "      <th>4</th>\n",
              "      <td>1.0</td>\n",
              "      <td>-1.970231</td>\n",
              "      <td>-2.009511</td>\n",
              "      <td>-1.747128</td>\n",
              "      <td>-1.679421</td>\n",
              "      <td>0</td>\n",
              "      <td>0</td>\n",
              "      <td>0</td>\n",
              "      <td>1</td>\n",
              "      <td>0</td>\n",
              "      <td>0</td>\n",
              "      <td>0</td>\n",
              "      <td>0</td>\n",
              "    </tr>\n",
              "  </tbody>\n",
              "</table>\n",
              "</div>"
            ],
            "text/plain": [
              "   adview     views     likes  dislikes   comment  category_A  category_B  \\\n",
              "0    40.0  1.000244  1.441680  1.103359  1.398827           0           0   \n",
              "1     2.0 -1.693941 -0.819659 -1.200594 -0.781064           0           0   \n",
              "2     1.0 -1.641413 -1.119185 -1.747128 -1.168045           0           0   \n",
              "3     6.0  0.722749  0.280058  0.723964  0.577704           0           0   \n",
              "4     1.0 -1.970231 -2.009511 -1.747128 -1.679421           0           0   \n",
              "\n",
              "   category_C  category_D  category_E  category_F  category_G  category_H  \n",
              "0           0           0           0           1           0           0  \n",
              "1           0           1           0           0           0           0  \n",
              "2           1           0           0           0           0           0  \n",
              "3           0           0           0           0           0           1  \n",
              "4           0           1           0           0           0           0  "
            ]
          },
          "metadata": {
            "tags": []
          },
          "execution_count": 88
        }
      ]
    },
    {
      "cell_type": "code",
      "metadata": {
        "id": "IIbQ0CZr-i72"
      },
      "source": [
        "new_train_data = combined_df.iloc[:len(train_df), :]\n",
        "new_test_data = combined_df.iloc[len(train_df):, :]\n",
        "X_train = new_train_data.drop('adview', axis=1)\n",
        "y_train = np.log1p(new_train_data['adview'].values.ravel())\n",
        "X_test = new_test_data.drop('adview', axis=1)"
      ],
      "execution_count": 89,
      "outputs": []
    },
    {
      "cell_type": "code",
      "metadata": {
        "colab": {
          "base_uri": "https://localhost:8080/"
        },
        "id": "qFGC3j13-i9l",
        "outputId": "aa70203c-3fcf-4872-a2a5-39e82f928d38"
      },
      "source": [
        "# Make Pipeline\n",
        "pre_precessing_pipeline = make_pipeline(RobustScaler())\n",
        "\n",
        "X_train = pre_precessing_pipeline.fit_transform(X_train)\n",
        "X_test = pre_precessing_pipeline.transform(X_test)\n",
        "\n",
        "print(X_train.shape)\n",
        "print(X_test.shape)"
      ],
      "execution_count": 90,
      "outputs": [
        {
          "output_type": "stream",
          "text": [
            "(14999, 12)\n",
            "(8764, 12)\n"
          ],
          "name": "stdout"
        }
      ]
    },
    {
      "cell_type": "markdown",
      "metadata": {
        "id": "iH-Uzst4gHMQ"
      },
      "source": [
        "# **6. Model Development**"
      ]
    },
    {
      "cell_type": "markdown",
      "metadata": {
        "id": "Fl0B8vr6jC00"
      },
      "source": [
        "### 6.2. Hyperparameter Tuning using Optuna"
      ]
    },
    {
      "cell_type": "code",
      "metadata": {
        "id": "SJWqIAjTgFDO"
      },
      "source": [
        "RANDOM_SEED = 23\n",
        "\n",
        "# 10-fold CV\n",
        "kfolds = KFold(n_splits=10, shuffle=True, random_state=RANDOM_SEED)"
      ],
      "execution_count": 91,
      "outputs": []
    },
    {
      "cell_type": "code",
      "metadata": {
        "id": "EzF5b8S6gFGB"
      },
      "source": [
        "def tune(objective):\n",
        "    study = optuna.create_study(direction=\"maximize\")\n",
        "    study.optimize(objective, n_trials=100)\n",
        "\n",
        "    params = study.best_params\n",
        "    best_score = study.best_value\n",
        "    print(f\"Best score: {best_score} \\nOptimized parameters: {params}\")\n",
        "    return params"
      ],
      "execution_count": 92,
      "outputs": []
    },
    {
      "cell_type": "markdown",
      "metadata": {
        "id": "3oassg0djYQq"
      },
      "source": [
        "### 6.3. Ridge Regression"
      ]
    },
    {
      "cell_type": "code",
      "metadata": {
        "id": "44_phjDHgFLD"
      },
      "source": [
        "def ridge_objective(trial):\n",
        "\n",
        "    _alpha = trial.suggest_float(\"alpha\", 0.1, 20)\n",
        "\n",
        "    ridge = Ridge(alpha=_alpha, random_state=RANDOM_SEED)\n",
        "\n",
        "    score = cross_val_score(\n",
        "        ridge,X_train,y_train, cv=kfolds, scoring=\"neg_root_mean_squared_error\"\n",
        "    ).mean()\n",
        "    return score\n",
        "\n",
        "# ridge_params = tune(ridge_objective)\n",
        "\n",
        "\n",
        "# Best score: -1.898690687982798 \n",
        "ridge_params = {'alpha': 19.99855836300504}"
      ],
      "execution_count": 93,
      "outputs": []
    },
    {
      "cell_type": "code",
      "metadata": {
        "id": "YV-MkANFgFNR",
        "colab": {
          "base_uri": "https://localhost:8080/"
        },
        "outputId": "6a17bf1f-8929-406c-b92d-67508bb4ba27"
      },
      "source": [
        "ridge = Ridge(**ridge_params, random_state=RANDOM_SEED)\n",
        "ridge.fit(X_train,y_train)"
      ],
      "execution_count": 94,
      "outputs": [
        {
          "output_type": "execute_result",
          "data": {
            "text/plain": [
              "Ridge(alpha=19.99855836300504, copy_X=True, fit_intercept=True, max_iter=None,\n",
              "      normalize=False, random_state=23, solver='auto', tol=0.001)"
            ]
          },
          "metadata": {
            "tags": []
          },
          "execution_count": 94
        }
      ]
    },
    {
      "cell_type": "markdown",
      "metadata": {
        "id": "pAlGJI0bpZAQ"
      },
      "source": [
        "### 6.4. Lasso Regression"
      ]
    },
    {
      "cell_type": "code",
      "metadata": {
        "id": "CzzkYSFNgFRh"
      },
      "source": [
        "def lasso_objective(trial):\n",
        "\n",
        "    _alpha = trial.suggest_float(\"alpha\", 0.0001, 1)\n",
        "\n",
        "    lasso = Lasso(alpha=_alpha, random_state=RANDOM_SEED)\n",
        "\n",
        "    score = cross_val_score(\n",
        "        lasso,X_train,y_train, cv=kfolds, scoring=\"neg_root_mean_squared_error\"\n",
        "    ).mean()\n",
        "    return score\n",
        "\n",
        "\n",
        "# lasso_params = tune(lasso_objective)\n",
        "\n",
        "# Best score: -1.8987548559962844 \n",
        "lasso_params =  {'alpha': 0.0009661425571276957}"
      ],
      "execution_count": 95,
      "outputs": []
    },
    {
      "cell_type": "code",
      "metadata": {
        "id": "hqU5XCv6gFT6",
        "colab": {
          "base_uri": "https://localhost:8080/"
        },
        "outputId": "4cd794e0-1c5a-4086-ab19-90d0e97d659c"
      },
      "source": [
        "lasso = Lasso(**lasso_params, random_state=RANDOM_SEED)\n",
        "lasso.fit(X_train,y_train)"
      ],
      "execution_count": 96,
      "outputs": [
        {
          "output_type": "execute_result",
          "data": {
            "text/plain": [
              "Lasso(alpha=0.0009661425571276957, copy_X=True, fit_intercept=True,\n",
              "      max_iter=1000, normalize=False, positive=False, precompute=False,\n",
              "      random_state=23, selection='cyclic', tol=0.0001, warm_start=False)"
            ]
          },
          "metadata": {
            "tags": []
          },
          "execution_count": 96
        }
      ]
    },
    {
      "cell_type": "markdown",
      "metadata": {
        "id": "zLeveS_2xNeN"
      },
      "source": [
        "### 6.5. Gradient Boosting Regressor"
      ]
    },
    {
      "cell_type": "code",
      "metadata": {
        "id": "mwVuWK6xgFYY"
      },
      "source": [
        "def gbr_objective(trial):\n",
        "    _n_estimators = trial.suggest_int(\"n_estimators\", 50, 2000)\n",
        "    _learning_rate = trial.suggest_float(\"learning_rate\", 0.01, 1)\n",
        "    _max_depth = trial.suggest_int(\"max_depth\", 1, 20)\n",
        "    _min_samp_split = trial.suggest_int(\"min_samples_split\", 2, 20)\n",
        "    _min_samples_leaf = trial.suggest_int(\"min_samples_leaf\", 2, 20)\n",
        "    _max_features = trial.suggest_int(\"max_features\", 10, 50)\n",
        "\n",
        "    gbr = GradientBoostingRegressor(\n",
        "        n_estimators=_n_estimators,\n",
        "        learning_rate=_learning_rate,\n",
        "        max_depth=_max_depth, \n",
        "        max_features=_max_features,\n",
        "        min_samples_leaf=_min_samples_leaf,\n",
        "        min_samples_split=_min_samp_split,\n",
        "        \n",
        "        random_state=RANDOM_SEED,\n",
        "    )\n",
        "\n",
        "    score = cross_val_score(\n",
        "        gbr, X_train,y_train, cv=kfolds, scoring=\"neg_root_mean_squared_error\"\n",
        "    ).mean()\n",
        "    return score\n",
        "\n",
        "# gbr_params = tune(gbr_objective)\n",
        "\n",
        "# Best score: -1.8222372332051289 \n",
        "gbr_params = {'n_estimators': 1396, 'learning_rate': 0.014373145732630006, 'max_depth': 6, 'min_samples_split': 6, 'min_samples_leaf': 7, 'max_features': 10}"
      ],
      "execution_count": 97,
      "outputs": []
    },
    {
      "cell_type": "code",
      "metadata": {
        "id": "V8dMZcDqt4wV",
        "colab": {
          "base_uri": "https://localhost:8080/"
        },
        "outputId": "33f5fece-176f-407d-9b11-0a5daa479ce0"
      },
      "source": [
        "gbr = GradientBoostingRegressor(random_state=RANDOM_SEED, **gbr_params)\n",
        "gbr.fit(X_train,y_train)"
      ],
      "execution_count": 98,
      "outputs": [
        {
          "output_type": "execute_result",
          "data": {
            "text/plain": [
              "GradientBoostingRegressor(alpha=0.9, ccp_alpha=0.0, criterion='friedman_mse',\n",
              "                          init=None, learning_rate=0.014373145732630006,\n",
              "                          loss='ls', max_depth=6, max_features=10,\n",
              "                          max_leaf_nodes=None, min_impurity_decrease=0.0,\n",
              "                          min_impurity_split=None, min_samples_leaf=7,\n",
              "                          min_samples_split=6, min_weight_fraction_leaf=0.0,\n",
              "                          n_estimators=1396, n_iter_no_change=None,\n",
              "                          presort='deprecated', random_state=23, subsample=1.0,\n",
              "                          tol=0.0001, validation_fraction=0.1, verbose=0,\n",
              "                          warm_start=False)"
            ]
          },
          "metadata": {
            "tags": []
          },
          "execution_count": 98
        }
      ]
    },
    {
      "cell_type": "markdown",
      "metadata": {
        "id": "lh5-TjoFxxe7"
      },
      "source": [
        "### 6.6. XGBRegressor "
      ]
    },
    {
      "cell_type": "code",
      "metadata": {
        "id": "93rj2E03t4zN"
      },
      "source": [
        "def xgb_objective(trial):\n",
        "    _n_estimators = trial.suggest_int(\"n_estimators\", 50, 2000)\n",
        "    _max_depth = trial.suggest_int(\"max_depth\", 1, 20)\n",
        "    _learning_rate = trial.suggest_float(\"learning_rate\", 0.01, 1)\n",
        "    _gamma = trial.suggest_float(\"gamma\", 0.01, 1)\n",
        "    _min_child_weight = trial.suggest_float(\"min_child_weight\", 0.1, 10)\n",
        "    _subsample = trial.suggest_float('subsample', 0.01, 1)\n",
        "    _reg_alpha = trial.suggest_float('reg_alpha', 0.01, 10)\n",
        "    _reg_lambda = trial.suggest_float('reg_lambda', 0.01, 10)\n",
        "\n",
        "    \n",
        "    xgbr = xgb.XGBRegressor(\n",
        "        n_estimators=_n_estimators,\n",
        "        max_depth=_max_depth, \n",
        "        learning_rate=_learning_rate,\n",
        "        gamma=_gamma,\n",
        "        min_child_weight=_min_child_weight,\n",
        "        subsample=_subsample,\n",
        "        reg_alpha=_reg_alpha,\n",
        "        reg_lambda=_reg_lambda,\n",
        "        random_state=RANDOM_SEED,\n",
        "    )\n",
        "    \n",
        "\n",
        "    score = cross_val_score(\n",
        "        xgbr, X_train,y_train, cv=kfolds, scoring=\"neg_root_mean_squared_error\"\n",
        "    ).mean()\n",
        "    return score\n",
        "\n",
        "\n",
        "# xgb_params = tune(xgb_objective)\n",
        "\n",
        "xgb_params =  {'n_estimators': 75, 'max_depth': 4, 'learning_rate': 0.27059503805300894, 'gamma': 0.6375378736305962, 'min_child_weight': 3.2347222003450633, 'subsample': 0.8792064649951686, 'reg_alpha': 8.764034303437914, 'reg_lambda': 7.475836220328881}\n",
        "# Best score : -1.8258592810003325."
      ],
      "execution_count": 99,
      "outputs": []
    },
    {
      "cell_type": "code",
      "metadata": {
        "id": "waGAURNWt45H",
        "colab": {
          "base_uri": "https://localhost:8080/"
        },
        "outputId": "7de66240-3a3e-4137-b0e7-a0869887e255"
      },
      "source": [
        "xgbr = xgb.XGBRegressor(random_state=RANDOM_SEED, **xgb_params)\n",
        "xgbr.fit(X_train,y_train)"
      ],
      "execution_count": 100,
      "outputs": [
        {
          "output_type": "stream",
          "text": [
            "[16:30:54] WARNING: /workspace/src/objective/regression_obj.cu:152: reg:linear is now deprecated in favor of reg:squarederror.\n"
          ],
          "name": "stdout"
        },
        {
          "output_type": "execute_result",
          "data": {
            "text/plain": [
              "XGBRegressor(base_score=0.5, booster='gbtree', colsample_bylevel=1,\n",
              "             colsample_bynode=1, colsample_bytree=1, gamma=0.6375378736305962,\n",
              "             importance_type='gain', learning_rate=0.27059503805300894,\n",
              "             max_delta_step=0, max_depth=4, min_child_weight=3.2347222003450633,\n",
              "             missing=None, n_estimators=75, n_jobs=1, nthread=None,\n",
              "             objective='reg:linear', random_state=23,\n",
              "             reg_alpha=8.764034303437914, reg_lambda=7.475836220328881,\n",
              "             scale_pos_weight=1, seed=None, silent=None,\n",
              "             subsample=0.8792064649951686, verbosity=1)"
            ]
          },
          "metadata": {
            "tags": []
          },
          "execution_count": 100
        }
      ]
    },
    {
      "cell_type": "markdown",
      "metadata": {
        "id": "MD3xdWM4ySda"
      },
      "source": [
        "### 6.7. LGBMRegressor"
      ]
    },
    {
      "cell_type": "code",
      "metadata": {
        "id": "QETEMwbmt47s"
      },
      "source": [
        "import lightgbm as lgb\n",
        "\n",
        "def lgb_objective(trial):\n",
        "    _num_leaves = trial.suggest_int(\"num_leaves\", 50, 100)\n",
        "    _max_depth = trial.suggest_int(\"max_depth\", 1, 20)\n",
        "    _learning_rate = trial.suggest_float(\"learning_rate\", 0.01, 1)\n",
        "    _n_estimators = trial.suggest_int(\"n_estimators\", 50, 2000)\n",
        "    _min_child_weight = trial.suggest_float(\"min_child_weight\", 0.1, 10)\n",
        "    _reg_alpha = trial.suggest_float('reg_alpha', 0.01, 10)\n",
        "    _reg_lambda = trial.suggest_float('reg_lambda', 0.01, 10)\n",
        "    _subsample = trial.suggest_float('subsample', 0.01, 1)\n",
        "\n",
        "\n",
        "    \n",
        "    lgbr = lgb.LGBMRegressor(objective='regression',\n",
        "                             num_leaves=_num_leaves,\n",
        "                             max_depth=_max_depth,\n",
        "                             learning_rate=_learning_rate,\n",
        "                             n_estimators=_n_estimators,\n",
        "                             min_child_weight=_min_child_weight,\n",
        "                             subsample=_subsample,\n",
        "                             reg_alpha=_reg_alpha,\n",
        "                             reg_lambda=_reg_lambda,\n",
        "                             random_state=RANDOM_SEED,\n",
        "    )\n",
        "    \n",
        "\n",
        "    score = cross_val_score(\n",
        "        lgbr, X_train,y_train, cv=kfolds, scoring=\"neg_root_mean_squared_error\"\n",
        "    ).mean()\n",
        "    return score\n",
        "\n",
        "\n",
        "# lgb_params = tune(lgb_objective)\n",
        "\n",
        "# Best score: -1.824529794158143 \n",
        "lgb_params =  {'num_leaves': 84, 'max_depth': 10, 'learning_rate': 0.011076909667786489, 'n_estimators': 727, 'min_child_weight': 4.921109754366219, 'reg_alpha': 4.370797996109474, 'reg_lambda': 8.552921079737136, 'subsample': 0.4411906869457217}\n"
      ],
      "execution_count": 101,
      "outputs": []
    },
    {
      "cell_type": "code",
      "metadata": {
        "id": "6ZBxq_Qkt5Dy",
        "colab": {
          "base_uri": "https://localhost:8080/"
        },
        "outputId": "cb7f0dbe-160f-42e9-d162-c8399bae1573"
      },
      "source": [
        "lgbr = lgb.LGBMRegressor(objective='regression', random_state=RANDOM_SEED, **lgb_params)\n",
        "lgbr.fit(X_train,y_train)"
      ],
      "execution_count": 102,
      "outputs": [
        {
          "output_type": "execute_result",
          "data": {
            "text/plain": [
              "LGBMRegressor(boosting_type='gbdt', class_weight=None, colsample_bytree=1.0,\n",
              "              importance_type='split', learning_rate=0.011076909667786489,\n",
              "              max_depth=10, min_child_samples=20,\n",
              "              min_child_weight=4.921109754366219, min_split_gain=0.0,\n",
              "              n_estimators=727, n_jobs=-1, num_leaves=84,\n",
              "              objective='regression', random_state=23,\n",
              "              reg_alpha=4.370797996109474, reg_lambda=8.552921079737136,\n",
              "              silent=True, subsample=0.4411906869457217,\n",
              "              subsample_for_bin=200000, subsample_freq=0)"
            ]
          },
          "metadata": {
            "tags": []
          },
          "execution_count": 102
        }
      ]
    },
    {
      "cell_type": "markdown",
      "metadata": {
        "id": "80iXjVmnyZUP"
      },
      "source": [
        "### 6.8. StackingRegressor"
      ]
    },
    {
      "cell_type": "code",
      "metadata": {
        "id": "vQcCR97Rt5Gq",
        "colab": {
          "base_uri": "https://localhost:8080/"
        },
        "outputId": "94cbc17c-cb1a-4ebb-d440-bea4d5b1b1fc"
      },
      "source": [
        "# stack models\n",
        "stack = StackingRegressor(\n",
        "    estimators=[\n",
        "        ('ridge', ridge),\n",
        "        ('lasso', lasso),\n",
        "        ('gradientboostingregressor', gbr),\n",
        "        ('xgb', xgbr),\n",
        "        ('lgb', lgbr),\n",
        "        # ('svr', svr), # Not using this for now as its score is significantly worse than the others\n",
        "    ],\n",
        "    cv=kfolds)\n",
        "stack.fit(X_train,y_train)"
      ],
      "execution_count": 103,
      "outputs": [
        {
          "output_type": "stream",
          "text": [
            "[16:31:41] WARNING: /workspace/src/objective/regression_obj.cu:152: reg:linear is now deprecated in favor of reg:squarederror.\n",
            "[16:38:25] WARNING: /workspace/src/objective/regression_obj.cu:152: reg:linear is now deprecated in favor of reg:squarederror.\n",
            "[16:38:26] WARNING: /workspace/src/objective/regression_obj.cu:152: reg:linear is now deprecated in favor of reg:squarederror.\n",
            "[16:38:26] WARNING: /workspace/src/objective/regression_obj.cu:152: reg:linear is now deprecated in favor of reg:squarederror.\n",
            "[16:38:27] WARNING: /workspace/src/objective/regression_obj.cu:152: reg:linear is now deprecated in favor of reg:squarederror.\n",
            "[16:38:28] WARNING: /workspace/src/objective/regression_obj.cu:152: reg:linear is now deprecated in favor of reg:squarederror.\n",
            "[16:38:29] WARNING: /workspace/src/objective/regression_obj.cu:152: reg:linear is now deprecated in favor of reg:squarederror.\n",
            "[16:38:29] WARNING: /workspace/src/objective/regression_obj.cu:152: reg:linear is now deprecated in favor of reg:squarederror.\n",
            "[16:38:30] WARNING: /workspace/src/objective/regression_obj.cu:152: reg:linear is now deprecated in favor of reg:squarederror.\n",
            "[16:38:31] WARNING: /workspace/src/objective/regression_obj.cu:152: reg:linear is now deprecated in favor of reg:squarederror.\n",
            "[16:38:32] WARNING: /workspace/src/objective/regression_obj.cu:152: reg:linear is now deprecated in favor of reg:squarederror.\n"
          ],
          "name": "stdout"
        },
        {
          "output_type": "execute_result",
          "data": {
            "text/plain": [
              "StackingRegressor(cv=KFold(n_splits=10, random_state=23, shuffle=True),\n",
              "                  estimators=[('ridge',\n",
              "                               Ridge(alpha=19.99855836300504, copy_X=True,\n",
              "                                     fit_intercept=True, max_iter=None,\n",
              "                                     normalize=False, random_state=23,\n",
              "                                     solver='auto', tol=0.001)),\n",
              "                              ('lasso',\n",
              "                               Lasso(alpha=0.0009661425571276957, copy_X=True,\n",
              "                                     fit_intercept=True, max_iter=1000,\n",
              "                                     normalize=False, positive=False,\n",
              "                                     precompu...\n",
              "                                             max_depth=10, min_child_samples=20,\n",
              "                                             min_child_weight=4.921109754366219,\n",
              "                                             min_split_gain=0.0,\n",
              "                                             n_estimators=727, n_jobs=-1,\n",
              "                                             num_leaves=84,\n",
              "                                             objective='regression',\n",
              "                                             random_state=23,\n",
              "                                             reg_alpha=4.370797996109474,\n",
              "                                             reg_lambda=8.552921079737136,\n",
              "                                             silent=True,\n",
              "                                             subsample=0.4411906869457217,\n",
              "                                             subsample_for_bin=200000,\n",
              "                                             subsample_freq=0))],\n",
              "                  final_estimator=None, n_jobs=None, passthrough=False,\n",
              "                  verbose=0)"
            ]
          },
          "metadata": {
            "tags": []
          },
          "execution_count": 103
        }
      ]
    },
    {
      "cell_type": "markdown",
      "metadata": {
        "id": "koq8PaOASMx8"
      },
      "source": [
        "### 6.9. Save the Model"
      ]
    },
    {
      "cell_type": "code",
      "metadata": {
        "id": "u5rcU63bST5Y",
        "colab": {
          "base_uri": "https://localhost:8080/"
        },
        "outputId": "bb13367e-496a-4354-8d77-18ffcfd6111b"
      },
      "source": [
        "joblib.dump(stack, \"prediction_model.pkl\")\n",
        "model=joblib.load(\"prediction_model.pkl\")\n",
        "model"
      ],
      "execution_count": 104,
      "outputs": [
        {
          "output_type": "stream",
          "text": [
            "[16:38:53] WARNING: /workspace/src/objective/regression_obj.cu:152: reg:linear is now deprecated in favor of reg:squarederror.\n",
            "[16:38:53] WARNING: /workspace/src/objective/regression_obj.cu:152: reg:linear is now deprecated in favor of reg:squarederror.\n"
          ],
          "name": "stdout"
        },
        {
          "output_type": "execute_result",
          "data": {
            "text/plain": [
              "StackingRegressor(cv=KFold(n_splits=10, random_state=23, shuffle=True),\n",
              "                  estimators=[('ridge',\n",
              "                               Ridge(alpha=19.99855836300504, copy_X=True,\n",
              "                                     fit_intercept=True, max_iter=None,\n",
              "                                     normalize=False, random_state=23,\n",
              "                                     solver='auto', tol=0.001)),\n",
              "                              ('lasso',\n",
              "                               Lasso(alpha=0.0009661425571276957, copy_X=True,\n",
              "                                     fit_intercept=True, max_iter=1000,\n",
              "                                     normalize=False, positive=False,\n",
              "                                     precompu...\n",
              "                                             max_depth=10, min_child_samples=20,\n",
              "                                             min_child_weight=4.921109754366219,\n",
              "                                             min_split_gain=0.0,\n",
              "                                             n_estimators=727, n_jobs=-1,\n",
              "                                             num_leaves=84,\n",
              "                                             objective='regression',\n",
              "                                             random_state=23,\n",
              "                                             reg_alpha=4.370797996109474,\n",
              "                                             reg_lambda=8.552921079737136,\n",
              "                                             silent=True,\n",
              "                                             subsample=0.4411906869457217,\n",
              "                                             subsample_for_bin=200000,\n",
              "                                             subsample_freq=0))],\n",
              "                  final_estimator=None, n_jobs=None, passthrough=False,\n",
              "                  verbose=0)"
            ]
          },
          "metadata": {
            "tags": []
          },
          "execution_count": 104
        }
      ]
    },
    {
      "cell_type": "markdown",
      "metadata": {
        "id": "hUrY75J0whQS"
      },
      "source": [
        "# **7. Find Prediction**"
      ]
    },
    {
      "cell_type": "code",
      "metadata": {
        "id": "VG2pNlIMuRtF",
        "colab": {
          "base_uri": "https://localhost:8080/"
        },
        "outputId": "07ae3b0e-9e85-49da-d382-dc1dbeb2fddd"
      },
      "source": [
        "print('Predict submission')\n",
        "final_test_df = pd.read_csv(\"/content/test.csv\")\n",
        "\n",
        "final_test_df['AdView'] = np.round(np.expm1(model.predict(X_test))).astype(int)\n",
        "\n",
        "final_test_df.to_csv('submission_test.csv', index=False)"
      ],
      "execution_count": 105,
      "outputs": [
        {
          "output_type": "stream",
          "text": [
            "Predict submission\n"
          ],
          "name": "stdout"
        }
      ]
    },
    {
      "cell_type": "code",
      "metadata": {
        "id": "UQg8JI_9uR17",
        "colab": {
          "base_uri": "https://localhost:8080/",
          "height": 203
        },
        "outputId": "617455b6-df29-4df3-d7c0-4cb1f239d325"
      },
      "source": [
        "final_test_df.head()"
      ],
      "execution_count": 106,
      "outputs": [
        {
          "output_type": "execute_result",
          "data": {
            "text/html": [
              "<div>\n",
              "<style scoped>\n",
              "    .dataframe tbody tr th:only-of-type {\n",
              "        vertical-align: middle;\n",
              "    }\n",
              "\n",
              "    .dataframe tbody tr th {\n",
              "        vertical-align: top;\n",
              "    }\n",
              "\n",
              "    .dataframe thead th {\n",
              "        text-align: right;\n",
              "    }\n",
              "</style>\n",
              "<table border=\"1\" class=\"dataframe\">\n",
              "  <thead>\n",
              "    <tr style=\"text-align: right;\">\n",
              "      <th></th>\n",
              "      <th>vidid</th>\n",
              "      <th>views</th>\n",
              "      <th>likes</th>\n",
              "      <th>dislikes</th>\n",
              "      <th>comment</th>\n",
              "      <th>published</th>\n",
              "      <th>duration</th>\n",
              "      <th>category</th>\n",
              "      <th>AdView</th>\n",
              "    </tr>\n",
              "  </thead>\n",
              "  <tbody>\n",
              "    <tr>\n",
              "      <th>0</th>\n",
              "      <td>VID_1054</td>\n",
              "      <td>440238</td>\n",
              "      <td>6153</td>\n",
              "      <td>218</td>\n",
              "      <td>1377</td>\n",
              "      <td>2017-02-18</td>\n",
              "      <td>PT7M29S</td>\n",
              "      <td>B</td>\n",
              "      <td>6</td>\n",
              "    </tr>\n",
              "    <tr>\n",
              "      <th>1</th>\n",
              "      <td>VID_18629</td>\n",
              "      <td>1040132</td>\n",
              "      <td>8171</td>\n",
              "      <td>340</td>\n",
              "      <td>1047</td>\n",
              "      <td>2016-06-28</td>\n",
              "      <td>PT6M29S</td>\n",
              "      <td>F</td>\n",
              "      <td>4</td>\n",
              "    </tr>\n",
              "    <tr>\n",
              "      <th>2</th>\n",
              "      <td>VID_13967</td>\n",
              "      <td>28534</td>\n",
              "      <td>31</td>\n",
              "      <td>11</td>\n",
              "      <td>1</td>\n",
              "      <td>2014-03-10</td>\n",
              "      <td>PT37M54S</td>\n",
              "      <td>D</td>\n",
              "      <td>3</td>\n",
              "    </tr>\n",
              "    <tr>\n",
              "      <th>3</th>\n",
              "      <td>VID_19442</td>\n",
              "      <td>1316715</td>\n",
              "      <td>2284</td>\n",
              "      <td>250</td>\n",
              "      <td>274</td>\n",
              "      <td>2010-06-05</td>\n",
              "      <td>PT9M55S</td>\n",
              "      <td>G</td>\n",
              "      <td>6</td>\n",
              "    </tr>\n",
              "    <tr>\n",
              "      <th>4</th>\n",
              "      <td>VID_770</td>\n",
              "      <td>1893173</td>\n",
              "      <td>2519</td>\n",
              "      <td>225</td>\n",
              "      <td>116</td>\n",
              "      <td>2016-09-03</td>\n",
              "      <td>PT3M8S</td>\n",
              "      <td>B</td>\n",
              "      <td>6</td>\n",
              "    </tr>\n",
              "  </tbody>\n",
              "</table>\n",
              "</div>"
            ],
            "text/plain": [
              "       vidid    views likes dislikes comment   published  duration category  \\\n",
              "0   VID_1054   440238  6153      218    1377  2017-02-18   PT7M29S        B   \n",
              "1  VID_18629  1040132  8171      340    1047  2016-06-28   PT6M29S        F   \n",
              "2  VID_13967    28534    31       11       1  2014-03-10  PT37M54S        D   \n",
              "3  VID_19442  1316715  2284      250     274  2010-06-05   PT9M55S        G   \n",
              "4    VID_770  1893173  2519      225     116  2016-09-03    PT3M8S        B   \n",
              "\n",
              "   AdView  \n",
              "0       6  \n",
              "1       4  \n",
              "2       3  \n",
              "3       6  \n",
              "4       6  "
            ]
          },
          "metadata": {
            "tags": []
          },
          "execution_count": 106
        }
      ]
    },
    {
      "cell_type": "code",
      "metadata": {
        "id": "ZFiX1ZYhKiiY"
      },
      "source": [
        ""
      ],
      "execution_count": 106,
      "outputs": []
    },
    {
      "cell_type": "code",
      "metadata": {
        "id": "bt2KgNJ0AULh"
      },
      "source": [
        ""
      ],
      "execution_count": 106,
      "outputs": []
    }
  ]
}